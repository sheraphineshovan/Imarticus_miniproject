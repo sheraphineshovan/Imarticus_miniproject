{
  "cells": [
    {
      "cell_type": "markdown",
      "metadata": {
        "id": "view-in-github",
        "colab_type": "text"
      },
      "source": [
        "<a href=\"https://colab.research.google.com/github/sheraphineshovan/Imarticus_miniproject/blob/main/Mobile_price_prediction%5BNaive_Bayes%5D.ipynb\" target=\"_parent\"><img src=\"https://colab.research.google.com/assets/colab-badge.svg\" alt=\"Open In Colab\"/></a>"
      ]
    },
    {
      "cell_type": "markdown",
      "metadata": {
        "id": "lU9UV5IYP32b"
      },
      "source": [
        "libraries"
      ]
    },
    {
      "cell_type": "code",
      "execution_count": null,
      "metadata": {
        "id": "0I1Th8kdP32d"
      },
      "outputs": [],
      "source": [
        "import pandas as pd\n",
        "import numpy as np\n",
        "import matplotlib.pyplot as plt\n",
        "import seaborn as sns\n",
        "from sklearn.model_selection import train_test_split\n",
        "from sklearn.metrics import confusion_matrix, classification_report, accuracy_score\n",
        "from sklearn.linear_model import LogisticRegression\n",
        "from sklearn.tree import DecisionTreeClassifier\n",
        "from sklearn.ensemble import RandomForestClassifier, GradientBoostingClassifier, AdaBoostClassifier\n",
        "from sklearn.neighbors import KNeighborsClassifier\n",
        "from scipy.stats import chi2_contingency"
      ]
    },
    {
      "cell_type": "markdown",
      "metadata": {
        "id": "dpQk8CiaP32e"
      },
      "source": [
        "import data"
      ]
    },
    {
      "cell_type": "code",
      "execution_count": null,
      "metadata": {
        "colab": {
          "base_uri": "https://localhost:8080/",
          "height": 206
        },
        "id": "ASaaBq3GP32e",
        "outputId": "408da86e-55d1-4991-d64d-3d06dc7701db"
      },
      "outputs": [
        {
          "data": {
            "text/html": [
              "\n",
              "  <div id=\"df-66d2b97e-1f6e-49c5-84a1-16de80b92e93\">\n",
              "    <div class=\"colab-df-container\">\n",
              "      <div>\n",
              "<style scoped>\n",
              "    .dataframe tbody tr th:only-of-type {\n",
              "        vertical-align: middle;\n",
              "    }\n",
              "\n",
              "    .dataframe tbody tr th {\n",
              "        vertical-align: top;\n",
              "    }\n",
              "\n",
              "    .dataframe thead th {\n",
              "        text-align: right;\n",
              "    }\n",
              "</style>\n",
              "<table border=\"1\" class=\"dataframe\">\n",
              "  <thead>\n",
              "    <tr style=\"text-align: right;\">\n",
              "      <th></th>\n",
              "      <th>battery_power</th>\n",
              "      <th>clock_speed</th>\n",
              "      <th>fc</th>\n",
              "      <th>int_memory</th>\n",
              "      <th>m_dep</th>\n",
              "      <th>mobile_wt</th>\n",
              "      <th>n_cores</th>\n",
              "      <th>pc</th>\n",
              "      <th>px_height</th>\n",
              "      <th>px_width</th>\n",
              "      <th>ram</th>\n",
              "      <th>sc_h</th>\n",
              "      <th>sc_w</th>\n",
              "      <th>talk_time</th>\n",
              "      <th>price_range</th>\n",
              "    </tr>\n",
              "  </thead>\n",
              "  <tbody>\n",
              "    <tr>\n",
              "      <th>0</th>\n",
              "      <td>842</td>\n",
              "      <td>2.2</td>\n",
              "      <td>1</td>\n",
              "      <td>7</td>\n",
              "      <td>0.6</td>\n",
              "      <td>188</td>\n",
              "      <td>2</td>\n",
              "      <td>2</td>\n",
              "      <td>20</td>\n",
              "      <td>756</td>\n",
              "      <td>2549</td>\n",
              "      <td>9</td>\n",
              "      <td>7</td>\n",
              "      <td>19</td>\n",
              "      <td>1</td>\n",
              "    </tr>\n",
              "    <tr>\n",
              "      <th>1</th>\n",
              "      <td>1021</td>\n",
              "      <td>0.5</td>\n",
              "      <td>0</td>\n",
              "      <td>53</td>\n",
              "      <td>0.7</td>\n",
              "      <td>136</td>\n",
              "      <td>3</td>\n",
              "      <td>6</td>\n",
              "      <td>905</td>\n",
              "      <td>1988</td>\n",
              "      <td>2631</td>\n",
              "      <td>17</td>\n",
              "      <td>3</td>\n",
              "      <td>7</td>\n",
              "      <td>2</td>\n",
              "    </tr>\n",
              "    <tr>\n",
              "      <th>2</th>\n",
              "      <td>563</td>\n",
              "      <td>0.5</td>\n",
              "      <td>2</td>\n",
              "      <td>41</td>\n",
              "      <td>0.9</td>\n",
              "      <td>145</td>\n",
              "      <td>5</td>\n",
              "      <td>6</td>\n",
              "      <td>1263</td>\n",
              "      <td>1716</td>\n",
              "      <td>2603</td>\n",
              "      <td>11</td>\n",
              "      <td>2</td>\n",
              "      <td>9</td>\n",
              "      <td>2</td>\n",
              "    </tr>\n",
              "    <tr>\n",
              "      <th>3</th>\n",
              "      <td>615</td>\n",
              "      <td>2.5</td>\n",
              "      <td>0</td>\n",
              "      <td>10</td>\n",
              "      <td>0.8</td>\n",
              "      <td>131</td>\n",
              "      <td>6</td>\n",
              "      <td>9</td>\n",
              "      <td>1216</td>\n",
              "      <td>1786</td>\n",
              "      <td>2769</td>\n",
              "      <td>16</td>\n",
              "      <td>8</td>\n",
              "      <td>11</td>\n",
              "      <td>2</td>\n",
              "    </tr>\n",
              "    <tr>\n",
              "      <th>4</th>\n",
              "      <td>1821</td>\n",
              "      <td>1.2</td>\n",
              "      <td>13</td>\n",
              "      <td>44</td>\n",
              "      <td>0.6</td>\n",
              "      <td>141</td>\n",
              "      <td>2</td>\n",
              "      <td>14</td>\n",
              "      <td>1208</td>\n",
              "      <td>1212</td>\n",
              "      <td>1411</td>\n",
              "      <td>8</td>\n",
              "      <td>2</td>\n",
              "      <td>15</td>\n",
              "      <td>1</td>\n",
              "    </tr>\n",
              "  </tbody>\n",
              "</table>\n",
              "</div>\n",
              "      <button class=\"colab-df-convert\" onclick=\"convertToInteractive('df-66d2b97e-1f6e-49c5-84a1-16de80b92e93')\"\n",
              "              title=\"Convert this dataframe to an interactive table.\"\n",
              "              style=\"display:none;\">\n",
              "        \n",
              "  <svg xmlns=\"http://www.w3.org/2000/svg\" height=\"24px\"viewBox=\"0 0 24 24\"\n",
              "       width=\"24px\">\n",
              "    <path d=\"M0 0h24v24H0V0z\" fill=\"none\"/>\n",
              "    <path d=\"M18.56 5.44l.94 2.06.94-2.06 2.06-.94-2.06-.94-.94-2.06-.94 2.06-2.06.94zm-11 1L8.5 8.5l.94-2.06 2.06-.94-2.06-.94L8.5 2.5l-.94 2.06-2.06.94zm10 10l.94 2.06.94-2.06 2.06-.94-2.06-.94-.94-2.06-.94 2.06-2.06.94z\"/><path d=\"M17.41 7.96l-1.37-1.37c-.4-.4-.92-.59-1.43-.59-.52 0-1.04.2-1.43.59L10.3 9.45l-7.72 7.72c-.78.78-.78 2.05 0 2.83L4 21.41c.39.39.9.59 1.41.59.51 0 1.02-.2 1.41-.59l7.78-7.78 2.81-2.81c.8-.78.8-2.07 0-2.86zM5.41 20L4 18.59l7.72-7.72 1.47 1.35L5.41 20z\"/>\n",
              "  </svg>\n",
              "      </button>\n",
              "      \n",
              "  <style>\n",
              "    .colab-df-container {\n",
              "      display:flex;\n",
              "      flex-wrap:wrap;\n",
              "      gap: 12px;\n",
              "    }\n",
              "\n",
              "    .colab-df-convert {\n",
              "      background-color: #E8F0FE;\n",
              "      border: none;\n",
              "      border-radius: 50%;\n",
              "      cursor: pointer;\n",
              "      display: none;\n",
              "      fill: #1967D2;\n",
              "      height: 32px;\n",
              "      padding: 0 0 0 0;\n",
              "      width: 32px;\n",
              "    }\n",
              "\n",
              "    .colab-df-convert:hover {\n",
              "      background-color: #E2EBFA;\n",
              "      box-shadow: 0px 1px 2px rgba(60, 64, 67, 0.3), 0px 1px 3px 1px rgba(60, 64, 67, 0.15);\n",
              "      fill: #174EA6;\n",
              "    }\n",
              "\n",
              "    [theme=dark] .colab-df-convert {\n",
              "      background-color: #3B4455;\n",
              "      fill: #D2E3FC;\n",
              "    }\n",
              "\n",
              "    [theme=dark] .colab-df-convert:hover {\n",
              "      background-color: #434B5C;\n",
              "      box-shadow: 0px 1px 3px 1px rgba(0, 0, 0, 0.15);\n",
              "      filter: drop-shadow(0px 1px 2px rgba(0, 0, 0, 0.3));\n",
              "      fill: #FFFFFF;\n",
              "    }\n",
              "  </style>\n",
              "\n",
              "      <script>\n",
              "        const buttonEl =\n",
              "          document.querySelector('#df-66d2b97e-1f6e-49c5-84a1-16de80b92e93 button.colab-df-convert');\n",
              "        buttonEl.style.display =\n",
              "          google.colab.kernel.accessAllowed ? 'block' : 'none';\n",
              "\n",
              "        async function convertToInteractive(key) {\n",
              "          const element = document.querySelector('#df-66d2b97e-1f6e-49c5-84a1-16de80b92e93');\n",
              "          const dataTable =\n",
              "            await google.colab.kernel.invokeFunction('convertToInteractive',\n",
              "                                                     [key], {});\n",
              "          if (!dataTable) return;\n",
              "\n",
              "          const docLinkHtml = 'Like what you see? Visit the ' +\n",
              "            '<a target=\"_blank\" href=https://colab.research.google.com/notebooks/data_table.ipynb>data table notebook</a>'\n",
              "            + ' to learn more about interactive tables.';\n",
              "          element.innerHTML = '';\n",
              "          dataTable['output_type'] = 'display_data';\n",
              "          await google.colab.output.renderOutput(dataTable, element);\n",
              "          const docLink = document.createElement('div');\n",
              "          docLink.innerHTML = docLinkHtml;\n",
              "          element.appendChild(docLink);\n",
              "        }\n",
              "      </script>\n",
              "    </div>\n",
              "  </div>\n",
              "  "
            ],
            "text/plain": [
              "   battery_power  clock_speed  fc  int_memory  m_dep  mobile_wt  n_cores  pc  \\\n",
              "0            842          2.2   1           7    0.6        188        2   2   \n",
              "1           1021          0.5   0          53    0.7        136        3   6   \n",
              "2            563          0.5   2          41    0.9        145        5   6   \n",
              "3            615          2.5   0          10    0.8        131        6   9   \n",
              "4           1821          1.2  13          44    0.6        141        2  14   \n",
              "\n",
              "   px_height  px_width   ram  sc_h  sc_w  talk_time  price_range  \n",
              "0         20       756  2549     9     7         19            1  \n",
              "1        905      1988  2631    17     3          7            2  \n",
              "2       1263      1716  2603    11     2          9            2  \n",
              "3       1216      1786  2769    16     8         11            2  \n",
              "4       1208      1212  1411     8     2         15            1  "
            ]
          },
          "execution_count": 3,
          "metadata": {},
          "output_type": "execute_result"
        }
      ],
      "source": [
        "df = pd.read_csv('Mobile_price.csv')\n",
        "df.head()"
      ]
    },
    {
      "cell_type": "code",
      "execution_count": null,
      "metadata": {
        "colab": {
          "base_uri": "https://localhost:8080/"
        },
        "id": "R1ubdlFLP32g",
        "outputId": "91666571-2dab-45e5-c899-a273bea6cb66"
      },
      "outputs": [
        {
          "name": "stdout",
          "output_type": "stream",
          "text": [
            "<class 'pandas.core.frame.DataFrame'>\n",
            "RangeIndex: 2000 entries, 0 to 1999\n",
            "Data columns (total 15 columns):\n",
            " #   Column         Non-Null Count  Dtype  \n",
            "---  ------         --------------  -----  \n",
            " 0   battery_power  2000 non-null   int64  \n",
            " 1   clock_speed    2000 non-null   float64\n",
            " 2   fc             2000 non-null   int64  \n",
            " 3   int_memory     2000 non-null   int64  \n",
            " 4   m_dep          2000 non-null   float64\n",
            " 5   mobile_wt      2000 non-null   int64  \n",
            " 6   n_cores        2000 non-null   int64  \n",
            " 7   pc             2000 non-null   int64  \n",
            " 8   px_height      2000 non-null   int64  \n",
            " 9   px_width       2000 non-null   int64  \n",
            " 10  ram            2000 non-null   int64  \n",
            " 11  sc_h           2000 non-null   int64  \n",
            " 12  sc_w           2000 non-null   int64  \n",
            " 13  talk_time      2000 non-null   int64  \n",
            " 14  price_range    2000 non-null   int64  \n",
            "dtypes: float64(2), int64(13)\n",
            "memory usage: 234.5 KB\n"
          ]
        }
      ],
      "source": [
        "df.info()"
      ]
    },
    {
      "cell_type": "code",
      "execution_count": null,
      "metadata": {
        "colab": {
          "base_uri": "https://localhost:8080/"
        },
        "id": "GZAJXWYZS-48",
        "outputId": "d1bd65d7-2c0c-4c38-f24c-de58da6ad853"
      },
      "outputs": [
        {
          "data": {
            "text/plain": [
              "1    500\n",
              "2    500\n",
              "3    500\n",
              "0    500\n",
              "Name: price_range, dtype: int64"
            ]
          },
          "execution_count": 42,
          "metadata": {},
          "output_type": "execute_result"
        }
      ],
      "source": [
        "df['price_range'].value_counts()"
      ]
    },
    {
      "cell_type": "code",
      "execution_count": null,
      "metadata": {
        "id": "yx8eT3aMS9GY"
      },
      "outputs": [],
      "source": []
    },
    {
      "cell_type": "code",
      "execution_count": null,
      "metadata": {
        "colab": {
          "base_uri": "https://localhost:8080/",
          "height": 364
        },
        "id": "V_W4xnKuP32h",
        "outputId": "2f236a6d-dd6f-432d-ad75-8a64822ee276"
      },
      "outputs": [
        {
          "data": {
            "text/html": [
              "\n",
              "  <div id=\"df-f04c427e-874e-43c8-bc7e-b4a5d12dfb0a\">\n",
              "    <div class=\"colab-df-container\">\n",
              "      <div>\n",
              "<style scoped>\n",
              "    .dataframe tbody tr th:only-of-type {\n",
              "        vertical-align: middle;\n",
              "    }\n",
              "\n",
              "    .dataframe tbody tr th {\n",
              "        vertical-align: top;\n",
              "    }\n",
              "\n",
              "    .dataframe thead th {\n",
              "        text-align: right;\n",
              "    }\n",
              "</style>\n",
              "<table border=\"1\" class=\"dataframe\">\n",
              "  <thead>\n",
              "    <tr style=\"text-align: right;\">\n",
              "      <th></th>\n",
              "      <th>battery_power</th>\n",
              "      <th>clock_speed</th>\n",
              "      <th>fc</th>\n",
              "      <th>int_memory</th>\n",
              "      <th>m_dep</th>\n",
              "      <th>mobile_wt</th>\n",
              "      <th>n_cores</th>\n",
              "      <th>pc</th>\n",
              "      <th>px_height</th>\n",
              "      <th>px_width</th>\n",
              "      <th>ram</th>\n",
              "      <th>sc_h</th>\n",
              "      <th>sc_w</th>\n",
              "      <th>talk_time</th>\n",
              "      <th>price_range</th>\n",
              "    </tr>\n",
              "  </thead>\n",
              "  <tbody>\n",
              "    <tr>\n",
              "      <th>count</th>\n",
              "      <td>2000.000000</td>\n",
              "      <td>2000.000000</td>\n",
              "      <td>2000.000000</td>\n",
              "      <td>2000.000000</td>\n",
              "      <td>2000.000000</td>\n",
              "      <td>2000.000000</td>\n",
              "      <td>2000.000000</td>\n",
              "      <td>2000.000000</td>\n",
              "      <td>2000.000000</td>\n",
              "      <td>2000.000000</td>\n",
              "      <td>2000.000000</td>\n",
              "      <td>2000.000000</td>\n",
              "      <td>2000.000000</td>\n",
              "      <td>2000.000000</td>\n",
              "      <td>2000.000000</td>\n",
              "    </tr>\n",
              "    <tr>\n",
              "      <th>mean</th>\n",
              "      <td>1238.518500</td>\n",
              "      <td>1.522250</td>\n",
              "      <td>4.309500</td>\n",
              "      <td>32.046500</td>\n",
              "      <td>0.501750</td>\n",
              "      <td>140.249000</td>\n",
              "      <td>4.520500</td>\n",
              "      <td>9.916500</td>\n",
              "      <td>645.108000</td>\n",
              "      <td>1251.515500</td>\n",
              "      <td>2124.213000</td>\n",
              "      <td>12.306500</td>\n",
              "      <td>5.767000</td>\n",
              "      <td>11.011000</td>\n",
              "      <td>1.500000</td>\n",
              "    </tr>\n",
              "    <tr>\n",
              "      <th>std</th>\n",
              "      <td>439.418206</td>\n",
              "      <td>0.816004</td>\n",
              "      <td>4.341444</td>\n",
              "      <td>18.145715</td>\n",
              "      <td>0.288416</td>\n",
              "      <td>35.399655</td>\n",
              "      <td>2.287837</td>\n",
              "      <td>6.064315</td>\n",
              "      <td>443.780811</td>\n",
              "      <td>432.199447</td>\n",
              "      <td>1084.732044</td>\n",
              "      <td>4.213245</td>\n",
              "      <td>4.356398</td>\n",
              "      <td>5.463955</td>\n",
              "      <td>1.118314</td>\n",
              "    </tr>\n",
              "    <tr>\n",
              "      <th>min</th>\n",
              "      <td>501.000000</td>\n",
              "      <td>0.500000</td>\n",
              "      <td>0.000000</td>\n",
              "      <td>2.000000</td>\n",
              "      <td>0.100000</td>\n",
              "      <td>80.000000</td>\n",
              "      <td>1.000000</td>\n",
              "      <td>0.000000</td>\n",
              "      <td>0.000000</td>\n",
              "      <td>500.000000</td>\n",
              "      <td>256.000000</td>\n",
              "      <td>5.000000</td>\n",
              "      <td>0.000000</td>\n",
              "      <td>2.000000</td>\n",
              "      <td>0.000000</td>\n",
              "    </tr>\n",
              "    <tr>\n",
              "      <th>25%</th>\n",
              "      <td>851.750000</td>\n",
              "      <td>0.700000</td>\n",
              "      <td>1.000000</td>\n",
              "      <td>16.000000</td>\n",
              "      <td>0.200000</td>\n",
              "      <td>109.000000</td>\n",
              "      <td>3.000000</td>\n",
              "      <td>5.000000</td>\n",
              "      <td>282.750000</td>\n",
              "      <td>874.750000</td>\n",
              "      <td>1207.500000</td>\n",
              "      <td>9.000000</td>\n",
              "      <td>2.000000</td>\n",
              "      <td>6.000000</td>\n",
              "      <td>0.750000</td>\n",
              "    </tr>\n",
              "    <tr>\n",
              "      <th>50%</th>\n",
              "      <td>1226.000000</td>\n",
              "      <td>1.500000</td>\n",
              "      <td>3.000000</td>\n",
              "      <td>32.000000</td>\n",
              "      <td>0.500000</td>\n",
              "      <td>141.000000</td>\n",
              "      <td>4.000000</td>\n",
              "      <td>10.000000</td>\n",
              "      <td>564.000000</td>\n",
              "      <td>1247.000000</td>\n",
              "      <td>2146.500000</td>\n",
              "      <td>12.000000</td>\n",
              "      <td>5.000000</td>\n",
              "      <td>11.000000</td>\n",
              "      <td>1.500000</td>\n",
              "    </tr>\n",
              "    <tr>\n",
              "      <th>75%</th>\n",
              "      <td>1615.250000</td>\n",
              "      <td>2.200000</td>\n",
              "      <td>7.000000</td>\n",
              "      <td>48.000000</td>\n",
              "      <td>0.800000</td>\n",
              "      <td>170.000000</td>\n",
              "      <td>7.000000</td>\n",
              "      <td>15.000000</td>\n",
              "      <td>947.250000</td>\n",
              "      <td>1633.000000</td>\n",
              "      <td>3064.500000</td>\n",
              "      <td>16.000000</td>\n",
              "      <td>9.000000</td>\n",
              "      <td>16.000000</td>\n",
              "      <td>2.250000</td>\n",
              "    </tr>\n",
              "    <tr>\n",
              "      <th>max</th>\n",
              "      <td>1998.000000</td>\n",
              "      <td>3.000000</td>\n",
              "      <td>19.000000</td>\n",
              "      <td>64.000000</td>\n",
              "      <td>1.000000</td>\n",
              "      <td>200.000000</td>\n",
              "      <td>8.000000</td>\n",
              "      <td>20.000000</td>\n",
              "      <td>1960.000000</td>\n",
              "      <td>1998.000000</td>\n",
              "      <td>3998.000000</td>\n",
              "      <td>19.000000</td>\n",
              "      <td>18.000000</td>\n",
              "      <td>20.000000</td>\n",
              "      <td>3.000000</td>\n",
              "    </tr>\n",
              "  </tbody>\n",
              "</table>\n",
              "</div>\n",
              "      <button class=\"colab-df-convert\" onclick=\"convertToInteractive('df-f04c427e-874e-43c8-bc7e-b4a5d12dfb0a')\"\n",
              "              title=\"Convert this dataframe to an interactive table.\"\n",
              "              style=\"display:none;\">\n",
              "        \n",
              "  <svg xmlns=\"http://www.w3.org/2000/svg\" height=\"24px\"viewBox=\"0 0 24 24\"\n",
              "       width=\"24px\">\n",
              "    <path d=\"M0 0h24v24H0V0z\" fill=\"none\"/>\n",
              "    <path d=\"M18.56 5.44l.94 2.06.94-2.06 2.06-.94-2.06-.94-.94-2.06-.94 2.06-2.06.94zm-11 1L8.5 8.5l.94-2.06 2.06-.94-2.06-.94L8.5 2.5l-.94 2.06-2.06.94zm10 10l.94 2.06.94-2.06 2.06-.94-2.06-.94-.94-2.06-.94 2.06-2.06.94z\"/><path d=\"M17.41 7.96l-1.37-1.37c-.4-.4-.92-.59-1.43-.59-.52 0-1.04.2-1.43.59L10.3 9.45l-7.72 7.72c-.78.78-.78 2.05 0 2.83L4 21.41c.39.39.9.59 1.41.59.51 0 1.02-.2 1.41-.59l7.78-7.78 2.81-2.81c.8-.78.8-2.07 0-2.86zM5.41 20L4 18.59l7.72-7.72 1.47 1.35L5.41 20z\"/>\n",
              "  </svg>\n",
              "      </button>\n",
              "      \n",
              "  <style>\n",
              "    .colab-df-container {\n",
              "      display:flex;\n",
              "      flex-wrap:wrap;\n",
              "      gap: 12px;\n",
              "    }\n",
              "\n",
              "    .colab-df-convert {\n",
              "      background-color: #E8F0FE;\n",
              "      border: none;\n",
              "      border-radius: 50%;\n",
              "      cursor: pointer;\n",
              "      display: none;\n",
              "      fill: #1967D2;\n",
              "      height: 32px;\n",
              "      padding: 0 0 0 0;\n",
              "      width: 32px;\n",
              "    }\n",
              "\n",
              "    .colab-df-convert:hover {\n",
              "      background-color: #E2EBFA;\n",
              "      box-shadow: 0px 1px 2px rgba(60, 64, 67, 0.3), 0px 1px 3px 1px rgba(60, 64, 67, 0.15);\n",
              "      fill: #174EA6;\n",
              "    }\n",
              "\n",
              "    [theme=dark] .colab-df-convert {\n",
              "      background-color: #3B4455;\n",
              "      fill: #D2E3FC;\n",
              "    }\n",
              "\n",
              "    [theme=dark] .colab-df-convert:hover {\n",
              "      background-color: #434B5C;\n",
              "      box-shadow: 0px 1px 3px 1px rgba(0, 0, 0, 0.15);\n",
              "      filter: drop-shadow(0px 1px 2px rgba(0, 0, 0, 0.3));\n",
              "      fill: #FFFFFF;\n",
              "    }\n",
              "  </style>\n",
              "\n",
              "      <script>\n",
              "        const buttonEl =\n",
              "          document.querySelector('#df-f04c427e-874e-43c8-bc7e-b4a5d12dfb0a button.colab-df-convert');\n",
              "        buttonEl.style.display =\n",
              "          google.colab.kernel.accessAllowed ? 'block' : 'none';\n",
              "\n",
              "        async function convertToInteractive(key) {\n",
              "          const element = document.querySelector('#df-f04c427e-874e-43c8-bc7e-b4a5d12dfb0a');\n",
              "          const dataTable =\n",
              "            await google.colab.kernel.invokeFunction('convertToInteractive',\n",
              "                                                     [key], {});\n",
              "          if (!dataTable) return;\n",
              "\n",
              "          const docLinkHtml = 'Like what you see? Visit the ' +\n",
              "            '<a target=\"_blank\" href=https://colab.research.google.com/notebooks/data_table.ipynb>data table notebook</a>'\n",
              "            + ' to learn more about interactive tables.';\n",
              "          element.innerHTML = '';\n",
              "          dataTable['output_type'] = 'display_data';\n",
              "          await google.colab.output.renderOutput(dataTable, element);\n",
              "          const docLink = document.createElement('div');\n",
              "          docLink.innerHTML = docLinkHtml;\n",
              "          element.appendChild(docLink);\n",
              "        }\n",
              "      </script>\n",
              "    </div>\n",
              "  </div>\n",
              "  "
            ],
            "text/plain": [
              "       battery_power  clock_speed           fc   int_memory        m_dep  \\\n",
              "count    2000.000000  2000.000000  2000.000000  2000.000000  2000.000000   \n",
              "mean     1238.518500     1.522250     4.309500    32.046500     0.501750   \n",
              "std       439.418206     0.816004     4.341444    18.145715     0.288416   \n",
              "min       501.000000     0.500000     0.000000     2.000000     0.100000   \n",
              "25%       851.750000     0.700000     1.000000    16.000000     0.200000   \n",
              "50%      1226.000000     1.500000     3.000000    32.000000     0.500000   \n",
              "75%      1615.250000     2.200000     7.000000    48.000000     0.800000   \n",
              "max      1998.000000     3.000000    19.000000    64.000000     1.000000   \n",
              "\n",
              "         mobile_wt      n_cores           pc    px_height     px_width  \\\n",
              "count  2000.000000  2000.000000  2000.000000  2000.000000  2000.000000   \n",
              "mean    140.249000     4.520500     9.916500   645.108000  1251.515500   \n",
              "std      35.399655     2.287837     6.064315   443.780811   432.199447   \n",
              "min      80.000000     1.000000     0.000000     0.000000   500.000000   \n",
              "25%     109.000000     3.000000     5.000000   282.750000   874.750000   \n",
              "50%     141.000000     4.000000    10.000000   564.000000  1247.000000   \n",
              "75%     170.000000     7.000000    15.000000   947.250000  1633.000000   \n",
              "max     200.000000     8.000000    20.000000  1960.000000  1998.000000   \n",
              "\n",
              "               ram         sc_h         sc_w    talk_time  price_range  \n",
              "count  2000.000000  2000.000000  2000.000000  2000.000000  2000.000000  \n",
              "mean   2124.213000    12.306500     5.767000    11.011000     1.500000  \n",
              "std    1084.732044     4.213245     4.356398     5.463955     1.118314  \n",
              "min     256.000000     5.000000     0.000000     2.000000     0.000000  \n",
              "25%    1207.500000     9.000000     2.000000     6.000000     0.750000  \n",
              "50%    2146.500000    12.000000     5.000000    11.000000     1.500000  \n",
              "75%    3064.500000    16.000000     9.000000    16.000000     2.250000  \n",
              "max    3998.000000    19.000000    18.000000    20.000000     3.000000  "
            ]
          },
          "execution_count": 5,
          "metadata": {},
          "output_type": "execute_result"
        }
      ],
      "source": [
        "df.describe()"
      ]
    },
    {
      "cell_type": "code",
      "execution_count": null,
      "metadata": {
        "colab": {
          "base_uri": "https://localhost:8080/"
        },
        "id": "KMZWA0H5P32h",
        "outputId": "49fbe6f3-27bd-4ce8-f591-28c5d38869bb"
      },
      "outputs": [
        {
          "data": {
            "text/plain": [
              "battery_power    0.031898\n",
              "clock_speed      0.178084\n",
              "fc               1.019811\n",
              "int_memory       0.057889\n",
              "m_dep            0.089082\n",
              "mobile_wt        0.006558\n",
              "n_cores          0.003628\n",
              "pc               0.017306\n",
              "px_height        0.666271\n",
              "px_width         0.014787\n",
              "ram              0.006628\n",
              "sc_h            -0.098884\n",
              "sc_w             0.633787\n",
              "talk_time        0.009512\n",
              "price_range      0.000000\n",
              "dtype: float64"
            ]
          },
          "execution_count": 6,
          "metadata": {},
          "output_type": "execute_result"
        }
      ],
      "source": [
        "df.skew()"
      ]
    },
    {
      "cell_type": "code",
      "execution_count": null,
      "metadata": {
        "id": "ggo1XXD6P32i"
      },
      "outputs": [],
      "source": [
        "sns.pairplot(df)"
      ]
    },
    {
      "cell_type": "code",
      "execution_count": null,
      "metadata": {
        "colab": {
          "base_uri": "https://localhost:8080/",
          "height": 348
        },
        "id": "0Vj1HCLOP32i",
        "outputId": "4a79c876-f5dc-4763-f9fa-07a848d6536e"
      },
      "outputs": [
        {
          "data": {
            "text/plain": [
              "<Axes: >"
            ]
          },
          "execution_count": 8,
          "metadata": {},
          "output_type": "execute_result"
        },
        {
          "data": {
            "image/png": "[encoded data removed]",
            "text/plain": [
              "<Figure size 432x288 with 2 Axes>"
            ]
          },
          "metadata": {},
          "output_type": "display_data"
        }
      ],
      "source": [
        "sns.heatmap(df.corr())"
      ]
    },
    {
      "cell_type": "markdown",
      "metadata": {
        "id": "YTXdAByUP32j"
      },
      "source": [
        "split"
      ]
    },
    {
      "cell_type": "code",
      "execution_count": null,
      "metadata": {
        "colab": {
          "base_uri": "https://localhost:8080/"
        },
        "id": "kvot9TpFP32j",
        "outputId": "ca7909b3-48b5-4988-9826-e9e68f99d3bd"
      },
      "outputs": [
        {
          "name": "stdout",
          "output_type": "stream",
          "text": [
            "(2000, 14)\n",
            "(2000,)\n"
          ]
        }
      ],
      "source": [
        "x = df.iloc[:, :-1]\n",
        "y = df[\"price_range\"]\n",
        "print(x.shape)\n",
        "print(y.shape)"
      ]
    },
    {
      "cell_type": "code",
      "execution_count": null,
      "metadata": {
        "id": "oRqHeA0GP32j"
      },
      "outputs": [],
      "source": [
        "x_train, x_test, y_train, y_test = train_test_split(x, y, test_size = 0.2, random_state = 123)"
      ]
    },
    {
      "cell_type": "code",
      "execution_count": null,
      "metadata": {
        "colab": {
          "base_uri": "https://localhost:8080/"
        },
        "id": "hjKACsh3P32k",
        "outputId": "63c555bc-6b6f-4aa6-c81f-040c3abeb8ac"
      },
      "outputs": [
        {
          "name": "stdout",
          "output_type": "stream",
          "text": [
            "(1600, 14)\n",
            "(1600,)\n",
            "(400, 14)\n",
            "(400,)\n"
          ]
        }
      ],
      "source": [
        "print(x_train.shape)\n",
        "print(y_train.shape)\n",
        "print(x_test.shape)\n",
        "print(y_test.shape)"
      ]
    },
    {
      "cell_type": "code",
      "execution_count": null,
      "metadata": {
        "id": "ji_l2RoXP32k"
      },
      "outputs": [],
      "source": [
        "def acc_report(actual, predicted):\n",
        "    acc_score = accuracy_score(actual, predicted)\n",
        "    cm_matrix = confusion_matrix(actual, predicted)\n",
        "    class_report = classification_report(actual, predicted)\n",
        "    print(acc_score)\n",
        "    print(cm_matrix)\n",
        "    print(class_report)\n"
      ]
    },
    {
      "cell_type": "markdown",
      "metadata": {
        "id": "ZSRW51nHP32k"
      },
      "source": [
        "all the other tests"
      ]
    },
    {
      "cell_type": "code",
      "execution_count": null,
      "metadata": {
        "colab": {
          "base_uri": "https://localhost:8080/"
        },
        "id": "B3PWVa_PP32k",
        "outputId": "e374d9dd-8b88-41a0-eb80-edcb1f561e22"
      },
      "outputs": [
        {
          "name": "stderr",
          "output_type": "stream",
          "text": [
            "/usr/local/lib/python3.9/dist-packages/sklearn/linear_model/_logistic.py:458: ConvergenceWarning: lbfgs failed to converge (status=1):\n",
            "STOP: TOTAL NO. of ITERATIONS REACHED LIMIT.\n",
            "\n",
            "Increase the number of iterations (max_iter) or scale the data as shown in:\n",
            "    https://scikit-learn.org/stable/modules/preprocessing.html\n",
            "Please also refer to the documentation for alternative solver options:\n",
            "    https://scikit-learn.org/stable/modules/linear_model.html#logistic-regression\n",
            "  n_iter_i = _check_optimize_result(\n"
          ]
        }
      ],
      "source": [
        "lr = LogisticRegression()\n",
        "lr.fit(x_train, y_train)\n",
        "predlrtrain = lr.predict(x_train)\n",
        "predlrtest  = lr.predict(x_test)"
      ]
    },
    {
      "cell_type": "code",
      "execution_count": null,
      "metadata": {
        "colab": {
          "base_uri": "https://localhost:8080/"
        },
        "id": "XQyhCw2OP32l",
        "outputId": "95505f20-f110-407b-91fa-9f3cfe0dec17"
      },
      "outputs": [
        {
          "name": "stdout",
          "output_type": "stream",
          "text": [
            "0.6425\n",
            "[[332  76   5   0]\n",
            " [ 67 216  89  28]\n",
            " [  1  91 174 118]\n",
            " [  0   4  93 306]]\n",
            "              precision    recall  f1-score   support\n",
            "\n",
            "           0       0.83      0.80      0.82       413\n",
            "           1       0.56      0.54      0.55       400\n",
            "           2       0.48      0.45      0.47       384\n",
            "           3       0.68      0.76      0.72       403\n",
            "\n",
            "    accuracy                           0.64      1600\n",
            "   macro avg       0.64      0.64      0.64      1600\n",
            "weighted avg       0.64      0.64      0.64      1600\n",
            "\n",
            "0.635\n",
            "[[65 22  0  0]\n",
            " [20 61 13  6]\n",
            " [ 0 29 44 43]\n",
            " [ 0  0 13 84]]\n",
            "              precision    recall  f1-score   support\n",
            "\n",
            "           0       0.76      0.75      0.76        87\n",
            "           1       0.54      0.61      0.58       100\n",
            "           2       0.63      0.38      0.47       116\n",
            "           3       0.63      0.87      0.73        97\n",
            "\n",
            "    accuracy                           0.64       400\n",
            "   macro avg       0.64      0.65      0.63       400\n",
            "weighted avg       0.64      0.64      0.62       400\n",
            "\n"
          ]
        }
      ],
      "source": [
        "acc_report(y_train, predlrtrain)\n",
        "acc_report(y_test, predlrtest)"
      ]
    },
    {
      "cell_type": "code",
      "execution_count": null,
      "metadata": {
        "id": "DjaUZFjrP32l"
      },
      "outputs": [],
      "source": [
        "dtree = DecisionTreeClassifier(max_depth=3)\n",
        "dtree.fit(x_train, y_train)\n",
        "preddtrain = dtree.predict(x_train)\n",
        "preddtest = dtree.predict(x_test)\n"
      ]
    },
    {
      "cell_type": "code",
      "execution_count": null,
      "metadata": {
        "colab": {
          "base_uri": "https://localhost:8080/"
        },
        "id": "nyvDtpFaP32l",
        "outputId": "fac4a29d-055d-41e8-bcc0-4aa5a64701d6"
      },
      "outputs": [
        {
          "name": "stdout",
          "output_type": "stream",
          "text": [
            "0.77375\n",
            "[[333  80   0   0]\n",
            " [ 29 320  51   0]\n",
            " [  0  82 274  28]\n",
            " [  0   0  92 311]]\n",
            "              precision    recall  f1-score   support\n",
            "\n",
            "           0       0.92      0.81      0.86       413\n",
            "           1       0.66      0.80      0.73       400\n",
            "           2       0.66      0.71      0.68       384\n",
            "           3       0.92      0.77      0.84       403\n",
            "\n",
            "    accuracy                           0.77      1600\n",
            "   macro avg       0.79      0.77      0.78      1600\n",
            "weighted avg       0.79      0.77      0.78      1600\n",
            "\n",
            "0.75\n",
            "[[69 18  0  0]\n",
            " [10 80 10  0]\n",
            " [ 0 27 78 11]\n",
            " [ 0  0 24 73]]\n",
            "              precision    recall  f1-score   support\n",
            "\n",
            "           0       0.87      0.79      0.83        87\n",
            "           1       0.64      0.80      0.71       100\n",
            "           2       0.70      0.67      0.68       116\n",
            "           3       0.87      0.75      0.81        97\n",
            "\n",
            "    accuracy                           0.75       400\n",
            "   macro avg       0.77      0.75      0.76       400\n",
            "weighted avg       0.76      0.75      0.75       400\n",
            "\n"
          ]
        }
      ],
      "source": [
        "acc_report(y_train, preddtrain)\n",
        "acc_report(y_test, preddtest)"
      ]
    },
    {
      "cell_type": "code",
      "execution_count": null,
      "metadata": {
        "id": "CMVPYrtkP32m"
      },
      "outputs": [],
      "source": [
        "rf = RandomForestClassifier(max_depth=5)\n",
        "rf.fit(x_train, y_train)\n",
        "predrftrain = rf.predict(x_train)\n",
        "predrftest = rf.predict(x_test)"
      ]
    },
    {
      "cell_type": "code",
      "execution_count": null,
      "metadata": {
        "colab": {
          "base_uri": "https://localhost:8080/"
        },
        "id": "c2xgnjzLP32m",
        "outputId": "f7eb834e-66fc-4ae1-829e-8fd55a063b01"
      },
      "outputs": [
        {
          "name": "stdout",
          "output_type": "stream",
          "text": [
            "0.923125\n",
            "[[404   9   0   0]\n",
            " [ 22 352  26   0]\n",
            " [  0  45 323  16]\n",
            " [  0   0   5 398]]\n",
            "              precision    recall  f1-score   support\n",
            "\n",
            "           0       0.95      0.98      0.96       413\n",
            "           1       0.87      0.88      0.87       400\n",
            "           2       0.91      0.84      0.88       384\n",
            "           3       0.96      0.99      0.97       403\n",
            "\n",
            "    accuracy                           0.92      1600\n",
            "   macro avg       0.92      0.92      0.92      1600\n",
            "weighted avg       0.92      0.92      0.92      1600\n",
            "\n",
            "0.8375\n",
            "[[87  0  0  0]\n",
            " [12 79  9  0]\n",
            " [ 0 26 78 12]\n",
            " [ 0  0  6 91]]\n",
            "              precision    recall  f1-score   support\n",
            "\n",
            "           0       0.88      1.00      0.94        87\n",
            "           1       0.75      0.79      0.77       100\n",
            "           2       0.84      0.67      0.75       116\n",
            "           3       0.88      0.94      0.91        97\n",
            "\n",
            "    accuracy                           0.84       400\n",
            "   macro avg       0.84      0.85      0.84       400\n",
            "weighted avg       0.84      0.84      0.83       400\n",
            "\n"
          ]
        }
      ],
      "source": [
        "acc_report(y_train, predrftrain)\n",
        "acc_report(y_test, predrftest)"
      ]
    },
    {
      "cell_type": "code",
      "execution_count": null,
      "metadata": {
        "id": "KxWM1I_4P32m"
      },
      "outputs": [],
      "source": [
        "gboost = GradientBoostingClassifier(max_depth=3)\n",
        "gboost.fit(x_train, y_train)\n",
        "predgboostrain = gboost.predict(x_train)\n",
        "predgboostest = gboost.predict(x_test)\n"
      ]
    },
    {
      "cell_type": "code",
      "execution_count": null,
      "metadata": {
        "colab": {
          "base_uri": "https://localhost:8080/"
        },
        "id": "lMb6rRy3P32m",
        "outputId": "1a0734d0-c217-4896-d8b7-f16be6bd3d68"
      },
      "outputs": [
        {
          "name": "stdout",
          "output_type": "stream",
          "text": [
            "0.999375\n",
            "[[413   0   0   0]\n",
            " [  0 400   0   0]\n",
            " [  0   0 383   1]\n",
            " [  0   0   0 403]]\n",
            "              precision    recall  f1-score   support\n",
            "\n",
            "           0       1.00      1.00      1.00       413\n",
            "           1       1.00      1.00      1.00       400\n",
            "           2       1.00      1.00      1.00       384\n",
            "           3       1.00      1.00      1.00       403\n",
            "\n",
            "    accuracy                           1.00      1600\n",
            "   macro avg       1.00      1.00      1.00      1600\n",
            "weighted avg       1.00      1.00      1.00      1600\n",
            "\n",
            "0.9025\n",
            "[[84  3  0  0]\n",
            " [ 7 89  4  0]\n",
            " [ 0  9 98  9]\n",
            " [ 0  0  7 90]]\n",
            "              precision    recall  f1-score   support\n",
            "\n",
            "           0       0.92      0.97      0.94        87\n",
            "           1       0.88      0.89      0.89       100\n",
            "           2       0.90      0.84      0.87       116\n",
            "           3       0.91      0.93      0.92        97\n",
            "\n",
            "    accuracy                           0.90       400\n",
            "   macro avg       0.90      0.91      0.90       400\n",
            "weighted avg       0.90      0.90      0.90       400\n",
            "\n"
          ]
        }
      ],
      "source": [
        "acc_report(y_train, predgboostrain)\n",
        "acc_report(y_test, predgboostest)"
      ]
    },
    {
      "cell_type": "code",
      "execution_count": null,
      "metadata": {
        "id": "jes0-IgGP32n"
      },
      "outputs": [],
      "source": [
        "\n",
        "adboost = AdaBoostClassifier()\n",
        "adboost.fit(x_train, y_train)\n",
        "predadboostrain = adboost.predict(x_train)\n",
        "predadboostest = adboost.predict(x_test)"
      ]
    },
    {
      "cell_type": "code",
      "execution_count": null,
      "metadata": {
        "colab": {
          "base_uri": "https://localhost:8080/"
        },
        "id": "nY9r_F12P32n",
        "outputId": "1a152a4a-ddcc-4b61-f694-f0bb06228698"
      },
      "outputs": [
        {
          "name": "stdout",
          "output_type": "stream",
          "text": [
            "0.766875\n",
            "[[275 138   0   0]\n",
            " [ 31 303  66   0]\n",
            " [  0  37 314  33]\n",
            " [  0   0  68 335]]\n",
            "              precision    recall  f1-score   support\n",
            "\n",
            "           0       0.90      0.67      0.76       413\n",
            "           1       0.63      0.76      0.69       400\n",
            "           2       0.70      0.82      0.75       384\n",
            "           3       0.91      0.83      0.87       403\n",
            "\n",
            "    accuracy                           0.77      1600\n",
            "   macro avg       0.79      0.77      0.77      1600\n",
            "weighted avg       0.79      0.77      0.77      1600\n",
            "\n",
            "0.775\n",
            "[[56 31  0  0]\n",
            " [11 71 18  0]\n",
            " [ 0  8 99  9]\n",
            " [ 0  0 13 84]]\n",
            "              precision    recall  f1-score   support\n",
            "\n",
            "           0       0.84      0.64      0.73        87\n",
            "           1       0.65      0.71      0.68       100\n",
            "           2       0.76      0.85      0.80       116\n",
            "           3       0.90      0.87      0.88        97\n",
            "\n",
            "    accuracy                           0.78       400\n",
            "   macro avg       0.79      0.77      0.77       400\n",
            "weighted avg       0.78      0.78      0.78       400\n",
            "\n"
          ]
        }
      ],
      "source": [
        "acc_report(y_train, predadboostrain)\n",
        "acc_report(y_test, predadboostest)"
      ]
    },
    {
      "cell_type": "markdown",
      "metadata": {
        "id": "LzZ0GojkP32n"
      },
      "source": [
        "knn"
      ]
    },
    {
      "cell_type": "code",
      "execution_count": null,
      "metadata": {
        "colab": {
          "base_uri": "https://localhost:8080/"
        },
        "id": "Gp75b-3VP32n",
        "outputId": "9f601a13-91cf-44c1-aaa8-48a0d69aed87"
      },
      "outputs": [
        {
          "data": {
            "text/plain": [
              "44.721359549995796"
            ]
          },
          "execution_count": 23,
          "metadata": {},
          "output_type": "execute_result"
        }
      ],
      "source": [
        "np.sqrt(2000)"
      ]
    },
    {
      "cell_type": "code",
      "execution_count": null,
      "metadata": {
        "id": "WrGb37zoP32n"
      },
      "outputs": [],
      "source": [
        "knn = KNeighborsClassifier(n_neighbors=35 )\n",
        "knn.fit(x_train, y_train)\n",
        "predknntrain = knn.predict(x_train)\n",
        "predknntest = knn.predict(x_test)"
      ]
    },
    {
      "cell_type": "code",
      "execution_count": null,
      "metadata": {
        "colab": {
          "base_uri": "https://localhost:8080/"
        },
        "id": "GSZlKxebP32n",
        "outputId": "4dc62ecc-4957-47a3-e659-1f70112f8be3"
      },
      "outputs": [
        {
          "name": "stdout",
          "output_type": "stream",
          "text": [
            "0.93875\n",
            "[[406   7   0   0]\n",
            " [ 14 371  15   0]\n",
            " [  0  25 337  22]\n",
            " [  0   0  15 388]]\n",
            "              precision    recall  f1-score   support\n",
            "\n",
            "           0       0.97      0.98      0.97       413\n",
            "           1       0.92      0.93      0.92       400\n",
            "           2       0.92      0.88      0.90       384\n",
            "           3       0.95      0.96      0.95       403\n",
            "\n",
            "    accuracy                           0.94      1600\n",
            "   macro avg       0.94      0.94      0.94      1600\n",
            "weighted avg       0.94      0.94      0.94      1600\n",
            "\n",
            "0.925\n",
            "[[ 86   1   0   0]\n",
            " [  7  90   3   0]\n",
            " [  0   8 102   6]\n",
            " [  0   0   5  92]]\n",
            "              precision    recall  f1-score   support\n",
            "\n",
            "           0       0.92      0.99      0.96        87\n",
            "           1       0.91      0.90      0.90       100\n",
            "           2       0.93      0.88      0.90       116\n",
            "           3       0.94      0.95      0.94        97\n",
            "\n",
            "    accuracy                           0.93       400\n",
            "   macro avg       0.92      0.93      0.93       400\n",
            "weighted avg       0.92      0.93      0.92       400\n",
            "\n"
          ]
        }
      ],
      "source": [
        "acc_report(y_train, predknntrain)\n",
        "acc_report(y_test, predknntest)"
      ]
    },
    {
      "cell_type": "markdown",
      "metadata": {
        "id": "z9L2KIYZP32o"
      },
      "source": [
        "xgboost"
      ]
    },
    {
      "cell_type": "code",
      "execution_count": null,
      "metadata": {
        "id": "4L-NS_cQP32o"
      },
      "outputs": [],
      "source": [
        "#%pip install xgboost"
      ]
    },
    {
      "cell_type": "code",
      "execution_count": null,
      "metadata": {
        "id": "KyN_QD83P32o"
      },
      "outputs": [],
      "source": [
        "import xgboost as xgb"
      ]
    },
    {
      "cell_type": "code",
      "execution_count": null,
      "metadata": {
        "id": "eLho_myeP32o"
      },
      "outputs": [],
      "source": [
        "dtest_clf = xgb.DMatrix(x_test, y_test)\n",
        "dtrain_clf = xgb.DMatrix(x_train, y_train)"
      ]
    },
    {
      "cell_type": "code",
      "execution_count": null,
      "metadata": {
        "colab": {
          "base_uri": "https://localhost:8080/"
        },
        "id": "q7Nj-IKfP32o",
        "outputId": "c0e000f9-a7a0-44e9-9e38-9a6e0d852b2f"
      },
      "outputs": [
        {
          "name": "stdout",
          "output_type": "stream",
          "text": [
            "[13:29:37] WARNING: ../src/learner.cc:767: \n",
            "Parameters: { \"tree_methods\" } are not used.\n",
            "\n"
          ]
        }
      ],
      "source": [
        "xgb_classifier=xgb.XGBClassifier(n_estimators=100,tree_methods='hist')\n",
        "xgb_classifier.fit(x_train,y_train)\n",
        "xgb_pred_train=xgb_classifier.predict(x_train)\n",
        "xgb_pred_test=xgb_classifier.predict(x_test)\n"
      ]
    },
    {
      "cell_type": "code",
      "execution_count": null,
      "metadata": {
        "colab": {
          "base_uri": "https://localhost:8080/"
        },
        "id": "JWi8-dUOP32o",
        "outputId": "b39b042e-a9eb-4334-f089-0b470af3626c"
      },
      "outputs": [
        {
          "name": "stdout",
          "output_type": "stream",
          "text": [
            "1.0\n",
            "[[413   0   0   0]\n",
            " [  0 400   0   0]\n",
            " [  0   0 384   0]\n",
            " [  0   0   0 403]]\n",
            "              precision    recall  f1-score   support\n",
            "\n",
            "           0       1.00      1.00      1.00       413\n",
            "           1       1.00      1.00      1.00       400\n",
            "           2       1.00      1.00      1.00       384\n",
            "           3       1.00      1.00      1.00       403\n",
            "\n",
            "    accuracy                           1.00      1600\n",
            "   macro avg       1.00      1.00      1.00      1600\n",
            "weighted avg       1.00      1.00      1.00      1600\n",
            "\n",
            "0.915\n",
            "[[84  3  0  0]\n",
            " [ 4 93  3  0]\n",
            " [ 0  8 99  9]\n",
            " [ 0  0  7 90]]\n",
            "              precision    recall  f1-score   support\n",
            "\n",
            "           0       0.95      0.97      0.96        87\n",
            "           1       0.89      0.93      0.91       100\n",
            "           2       0.91      0.85      0.88       116\n",
            "           3       0.91      0.93      0.92        97\n",
            "\n",
            "    accuracy                           0.92       400\n",
            "   macro avg       0.92      0.92      0.92       400\n",
            "weighted avg       0.92      0.92      0.91       400\n",
            "\n"
          ]
        }
      ],
      "source": [
        "acc_report(y_train, xgb_pred_train)\n",
        "acc_report(y_test, xgb_pred_test)"
      ]
    },
    {
      "cell_type": "markdown",
      "metadata": {
        "id": "6YGRULzlP32p"
      },
      "source": [
        "app deployment"
      ]
    },
    {
      "cell_type": "code",
      "execution_count": null,
      "metadata": {
        "id": "LBtA1butP32p"
      },
      "outputs": [],
      "source": [
        "%pip install Gradio"
      ]
    },
    {
      "cell_type": "code",
      "execution_count": null,
      "metadata": {
        "id": "vv8abrxUP32p"
      },
      "outputs": [],
      "source": [
        "import pickle\n",
        "import gradio as gr"
      ]
    },
    {
      "cell_type": "code",
      "execution_count": null,
      "metadata": {
        "id": "P3skio23P32p"
      },
      "outputs": [],
      "source": [
        "with open('knn_model.pkl','wb') as f:\n",
        "    pickle.dump(svc,f)"
      ]
    },
    {
      "cell_type": "code",
      "execution_count": null,
      "metadata": {
        "id": "6yzBXdb8P32p"
      },
      "outputs": [],
      "source": [
        "def make_prediction(battery_power, clock_speed, fc, int_memory, m_dep,\n",
        "       mobile_wt, n_cores, pc, px_height, px_width, ram, sc_h,\n",
        "       sc_w, talk_time):\n",
        "    with open('knn_model.pkl','rb') as f:\n",
        "        clf=pickle.load(f)\n",
        "        preds=clf.predict([[battery_power, clock_speed, fc, int_memory, m_dep,\n",
        "       mobile_wt, n_cores, pc, px_height, px_width, ram, sc_h,\n",
        "       sc_w, talk_time]])\n",
        "        if preds==0:\n",
        "            return 'Low cost'\n",
        "        elif preds==1:\n",
        "            return 'Low-Medium cost'\n",
        "        elif preds==2:\n",
        "            return 'Medium-High cost'\n",
        "        else:\n",
        "            return 'High cost'\n"
      ]
    },
    {
      "cell_type": "code",
      "execution_count": null,
      "metadata": {
        "id": "pt-2OURPP32p"
      },
      "outputs": [],
      "source": [
        "battery_power=gr.Number(label=\"Enter Average battery power btw 501-2000 : \")\n",
        "clock_speed=gr.Number(label=\"Enter Clock Speed btw 0.5-3 : \")\n",
        "fc=gr.Number(label=\"Enter fc btw 0-19 : \")\n",
        "int_memory=gr.Number(label=\"Enter int_mem btw2-64 : \")\n",
        "m_dep=gr.Number(label=\"Enter m_dep btw 0.1-1 : \")\n",
        "mobile_wt=gr.Number(label=\"Enter weight btw 80-200 : \")\n",
        "n_cores=gr.Number(label=\"Enter cores btw 1-8 : \")\n",
        "pc=gr.Number(label=\"Enter pc btw 0-20 : \")\n",
        "px_height=gr.Number(label=\"Enter height btw 0-1960 : \")\n",
        "px_width=gr.Number(label=\"Enter width btw 500-1998 : \")\n",
        "ram=gr.Number(label=\"Enter ram 256-3998 : \")\n",
        "sc_h=gr.Number(label=\"Enter sc_h btw 5-19 : \")\n",
        "sc_w=gr.Number(label=\"Enter sc_w btw 0-18 : \")\n",
        "talk_time=gr.Number(label=\"Enter talktime btw 2-20 : \")\n",
        "\n",
        "output=gr.Textbox()"
      ]
    },
    {
      "cell_type": "code",
      "execution_count": null,
      "metadata": {
        "colab": {
          "background_save": true,
          "base_uri": "https://localhost:8080/",
          "height": 626
        },
        "id": "wMLyKoH_P32q",
        "outputId": "c608d52f-d63a-4e1d-eabe-5510c8052ed7"
      },
      "outputs": [
        {
          "name": "stdout",
          "output_type": "stream",
          "text": [
            "Colab notebook detected. This cell will run indefinitely so that you can see errors and logs. To turn off, set debug=False in launch().\n",
            "Running on public URL: https://c35bc789f54f9f2ae1.gradio.live\n",
            "\n",
            "This share link expires in 72 hours. For free permanent hosting and GPU upgrades (NEW!), check out Spaces: https://huggingface.co/spaces\n"
          ]
        },
        {
          "data": {
            "text/html": [
              "<div><iframe src=\"https://c35bc789f54f9f2ae1.gradio.live\" width=\"100%\" height=\"500\" allow=\"autoplay; camera; microphone; clipboard-read; clipboard-write;\" frameborder=\"0\" allowfullscreen></iframe></div>"
            ],
            "text/plain": [
              "<IPython.core.display.HTML object>"
            ]
          },
          "metadata": {},
          "output_type": "display_data"
        },
        {
          "name": "stderr",
          "output_type": "stream",
          "text": [
            "/usr/local/lib/python3.9/dist-packages/sklearn/base.py:439: UserWarning: X does not have valid feature names, but KNeighborsClassifier was fitted with feature names\n",
            "  warnings.warn(\n"
          ]
        }
      ],
      "source": [
        "app=gr.Interface(fn=make_prediction,inputs=[battery_power, clock_speed, fc, int_memory, m_dep,\n",
        "       mobile_wt, n_cores, pc, px_height, px_width, ram, sc_h,\n",
        "       sc_w, talk_time],outputs=output)\n",
        "app.launch(debug=True,share=True)\n"
      ]
    },
    {
      "cell_type": "code",
      "execution_count": null,
      "metadata": {
        "id": "yv-B3o_FQ8rl"
      },
      "outputs": [],
      "source": [
        "from sklearn.svm import SVC"
      ]
    },
    {
      "cell_type": "code",
      "execution_count": null,
      "metadata": {
        "id": "qDAur-DBQ8lP"
      },
      "outputs": [],
      "source": [
        "svc = SVC(kernel = 'poly')\n",
        "svc.fit(x_train,y_train)\n",
        "svc_preds_train = svc.predict(x_train)\n",
        "svc_preds_test = svc.predict(x_test)"
      ]
    },
    {
      "cell_type": "code",
      "execution_count": null,
      "metadata": {
        "id": "NtMzrcdeSKwV"
      },
      "outputs": [],
      "source": [
        "def model_eval(actual, predicted):\n",
        "    acc_score = accuracy_score(actual, predicted)\n",
        "    cm_matrix = confusion_matrix(actual, predicted)\n",
        "    class_report = classification_report(actual, predicted)\n",
        "    print(acc_score)\n",
        "    print(cm_matrix)\n",
        "    print(class_report)"
      ]
    },
    {
      "cell_type": "code",
      "execution_count": null,
      "metadata": {
        "colab": {
          "base_uri": "https://localhost:8080/"
        },
        "id": "BO6LNmMUSOVa",
        "outputId": "192be8c6-2fb7-445f-c0cd-6b60d2159dba"
      },
      "outputs": [
        {
          "name": "stdout",
          "output_type": "stream",
          "text": [
            "0.963125\n",
            "[[413   0   0   0]\n",
            " [ 12 381   7   0]\n",
            " [  0  14 355  15]\n",
            " [  0   0  11 392]]\n",
            "              precision    recall  f1-score   support\n",
            "\n",
            "           0       0.97      1.00      0.99       413\n",
            "           1       0.96      0.95      0.96       400\n",
            "           2       0.95      0.92      0.94       384\n",
            "           3       0.96      0.97      0.97       403\n",
            "\n",
            "    accuracy                           0.96      1600\n",
            "   macro avg       0.96      0.96      0.96      1600\n",
            "weighted avg       0.96      0.96      0.96      1600\n",
            "\n"
          ]
        }
      ],
      "source": [
        "model_eval(y_train,svc_preds_train)"
      ]
    },
    {
      "cell_type": "code",
      "execution_count": null,
      "metadata": {
        "colab": {
          "base_uri": "https://localhost:8080/"
        },
        "id": "Jt1PI9w9SRXf",
        "outputId": "d6547dd7-d36a-4d8e-af47-6c75c6fd2775"
      },
      "outputs": [
        {
          "name": "stdout",
          "output_type": "stream",
          "text": [
            "0.9375\n",
            "[[ 87   0   0   0]\n",
            " [ 10  89   1   0]\n",
            " [  0   5 106   5]\n",
            " [  0   0   4  93]]\n",
            "              precision    recall  f1-score   support\n",
            "\n",
            "           0       0.90      1.00      0.95        87\n",
            "           1       0.95      0.89      0.92       100\n",
            "           2       0.95      0.91      0.93       116\n",
            "           3       0.95      0.96      0.95        97\n",
            "\n",
            "    accuracy                           0.94       400\n",
            "   macro avg       0.94      0.94      0.94       400\n",
            "weighted avg       0.94      0.94      0.94       400\n",
            "\n"
          ]
        }
      ],
      "source": [
        "model_eval(y_test,svc_preds_test)"
      ]
    },
    {
      "cell_type": "markdown",
      "metadata": {
        "id": "RgmEZxcDTY8D"
      },
      "source": [
        "Dataset is Uniformly distributed so there is no need for SMOTE implementation"
      ]
    },
    {
      "cell_type": "code",
      "execution_count": null,
      "metadata": {
        "id": "b4B2z3W6SpJi"
      },
      "outputs": [],
      "source": [
        "from sklearn.naive_bayes import GaussianNB"
      ]
    },
    {
      "cell_type": "code",
      "execution_count": null,
      "metadata": {
        "colab": {
          "base_uri": "https://localhost:8080/",
          "height": 75
        },
        "id": "pQTyDz1LUDIm",
        "outputId": "37ca81bd-4acb-43e7-fece-91e24a8cf68a"
      },
      "outputs": [
        {
          "data": {
            "text/html": [
              "<style>#sk-container-id-1 {color: black;background-color: white;}#sk-container-id-1 pre{padding: 0;}#sk-container-id-1 div.sk-toggleable {background-color: white;}#sk-container-id-1 label.sk-toggleable__label {cursor: pointer;display: block;width: 100%;margin-bottom: 0;padding: 0.3em;box-sizing: border-box;text-align: center;}#sk-container-id-1 label.sk-toggleable__label-arrow:before {content: \"▸\";float: left;margin-right: 0.25em;color: #696969;}#sk-container-id-1 label.sk-toggleable__label-arrow:hover:before {color: black;}#sk-container-id-1 div.sk-estimator:hover label.sk-toggleable__label-arrow:before {color: black;}#sk-container-id-1 div.sk-toggleable__content {max-height: 0;max-width: 0;overflow: hidden;text-align: left;background-color: #f0f8ff;}#sk-container-id-1 div.sk-toggleable__content pre {margin: 0.2em;color: black;border-radius: 0.25em;background-color: #f0f8ff;}#sk-container-id-1 input.sk-toggleable__control:checked~div.sk-toggleable__content {max-height: 200px;max-width: 100%;overflow: auto;}#sk-container-id-1 input.sk-toggleable__control:checked~label.sk-toggleable__label-arrow:before {content: \"▾\";}#sk-container-id-1 div.sk-estimator input.sk-toggleable__control:checked~label.sk-toggleable__label {background-color: #d4ebff;}#sk-container-id-1 div.sk-label input.sk-toggleable__control:checked~label.sk-toggleable__label {background-color: #d4ebff;}#sk-container-id-1 input.sk-hidden--visually {border: 0;clip: rect(1px 1px 1px 1px);clip: rect(1px, 1px, 1px, 1px);height: 1px;margin: -1px;overflow: hidden;padding: 0;position: absolute;width: 1px;}#sk-container-id-1 div.sk-estimator {font-family: monospace;background-color: #f0f8ff;border: 1px dotted black;border-radius: 0.25em;box-sizing: border-box;margin-bottom: 0.5em;}#sk-container-id-1 div.sk-estimator:hover {background-color: #d4ebff;}#sk-container-id-1 div.sk-parallel-item::after {content: \"\";width: 100%;border-bottom: 1px solid gray;flex-grow: 1;}#sk-container-id-1 div.sk-label:hover label.sk-toggleable__label {background-color: #d4ebff;}#sk-container-id-1 div.sk-serial::before {content: \"\";position: absolute;border-left: 1px solid gray;box-sizing: border-box;top: 0;bottom: 0;left: 50%;z-index: 0;}#sk-container-id-1 div.sk-serial {display: flex;flex-direction: column;align-items: center;background-color: white;padding-right: 0.2em;padding-left: 0.2em;position: relative;}#sk-container-id-1 div.sk-item {position: relative;z-index: 1;}#sk-container-id-1 div.sk-parallel {display: flex;align-items: stretch;justify-content: center;background-color: white;position: relative;}#sk-container-id-1 div.sk-item::before, #sk-container-id-1 div.sk-parallel-item::before {content: \"\";position: absolute;border-left: 1px solid gray;box-sizing: border-box;top: 0;bottom: 0;left: 50%;z-index: -1;}#sk-container-id-1 div.sk-parallel-item {display: flex;flex-direction: column;z-index: 1;position: relative;background-color: white;}#sk-container-id-1 div.sk-parallel-item:first-child::after {align-self: flex-end;width: 50%;}#sk-container-id-1 div.sk-parallel-item:last-child::after {align-self: flex-start;width: 50%;}#sk-container-id-1 div.sk-parallel-item:only-child::after {width: 0;}#sk-container-id-1 div.sk-dashed-wrapped {border: 1px dashed gray;margin: 0 0.4em 0.5em 0.4em;box-sizing: border-box;padding-bottom: 0.4em;background-color: white;}#sk-container-id-1 div.sk-label label {font-family: monospace;font-weight: bold;display: inline-block;line-height: 1.2em;}#sk-container-id-1 div.sk-label-container {text-align: center;}#sk-container-id-1 div.sk-container {/* jupyter's `normalize.less` sets `[hidden] { display: none; }` but bootstrap.min.css set `[hidden] { display: none !important; }` so we also need the `!important` here to be able to override the default hidden behavior on the sphinx rendered scikit-learn.org. See: https://github.com/scikit-learn/scikit-learn/issues/21755 */display: inline-block !important;position: relative;}#sk-container-id-1 div.sk-text-repr-fallback {display: none;}</style><div id=\"sk-container-id-1\" class=\"sk-top-container\"><div class=\"sk-text-repr-fallback\"><pre>GaussianNB()</pre><b>In a Jupyter environment, please rerun this cell to show the HTML representation or trust the notebook. <br />On GitHub, the HTML representation is unable to render, please try loading this page with nbviewer.org.</b></div><div class=\"sk-container\" hidden><div class=\"sk-item\"><div class=\"sk-estimator sk-toggleable\"><input class=\"sk-toggleable__control sk-hidden--visually\" id=\"sk-estimator-id-1\" type=\"checkbox\" checked><label for=\"sk-estimator-id-1\" class=\"sk-toggleable__label sk-toggleable__label-arrow\">GaussianNB</label><div class=\"sk-toggleable__content\"><pre>GaussianNB()</pre></div></div></div></div></div>"
            ],
            "text/plain": [
              "GaussianNB()"
            ]
          },
          "execution_count": 44,
          "metadata": {},
          "output_type": "execute_result"
        }
      ],
      "source": [
        "gb = GaussianNB()\n",
        "gb.fit(x_train,y_train)"
      ]
    },
    {
      "cell_type": "code",
      "execution_count": null,
      "metadata": {
        "id": "JoQgN3r3UQ9j"
      },
      "outputs": [],
      "source": [
        "preds_gb_train = gb.predict(x_train)\n",
        "preds_gb_test = gb.predict(x_test)"
      ]
    },
    {
      "cell_type": "code",
      "execution_count": null,
      "metadata": {
        "colab": {
          "base_uri": "https://localhost:8080/"
        },
        "id": "_tcRQMLGUhH5",
        "outputId": "ca86ae91-9288-4ea3-887f-1b4b076d7f79"
      },
      "outputs": [
        {
          "name": "stdout",
          "output_type": "stream",
          "text": [
            "0.81625\n",
            "[[372  41   0   0]\n",
            " [ 30 293  77   0]\n",
            " [  0  65 281  38]\n",
            " [  0   1  42 360]]\n",
            "              precision    recall  f1-score   support\n",
            "\n",
            "           0       0.93      0.90      0.91       413\n",
            "           1       0.73      0.73      0.73       400\n",
            "           2       0.70      0.73      0.72       384\n",
            "           3       0.90      0.89      0.90       403\n",
            "\n",
            "    accuracy                           0.82      1600\n",
            "   macro avg       0.82      0.81      0.82      1600\n",
            "weighted avg       0.82      0.82      0.82      1600\n",
            "\n"
          ]
        }
      ],
      "source": [
        "model_eval(y_train,preds_gb_train)\n"
      ]
    },
    {
      "cell_type": "code",
      "execution_count": null,
      "metadata": {
        "colab": {
          "base_uri": "https://localhost:8080/"
        },
        "id": "E2iWk3QqUonA",
        "outputId": "baac36a3-2d94-4ced-ebff-507113f51779"
      },
      "outputs": [
        {
          "name": "stdout",
          "output_type": "stream",
          "text": [
            "0.8225\n",
            "[[82  5  0  0]\n",
            " [ 8 78 14  0]\n",
            " [ 0 22 81 13]\n",
            " [ 0  0  9 88]]\n",
            "              precision    recall  f1-score   support\n",
            "\n",
            "           0       0.91      0.94      0.93        87\n",
            "           1       0.74      0.78      0.76       100\n",
            "           2       0.78      0.70      0.74       116\n",
            "           3       0.87      0.91      0.89        97\n",
            "\n",
            "    accuracy                           0.82       400\n",
            "   macro avg       0.83      0.83      0.83       400\n",
            "weighted avg       0.82      0.82      0.82       400\n",
            "\n"
          ]
        }
      ],
      "source": [
        "model_eval(y_test,preds_gb_test)"
      ]
    },
    {
      "cell_type": "code",
      "execution_count": null,
      "metadata": {
        "id": "J63IU3wdUxfh"
      },
      "outputs": [],
      "source": []
    },
    {
      "cell_type": "code",
      "execution_count": null,
      "metadata": {
        "id": "11HC-jPNXDeb"
      },
      "outputs": [],
      "source": []
    }
  ],
  "metadata": {
    "colab": {
      "provenance": [],
      "include_colab_link": true
    },
    "kernelspec": {
      "display_name": "base",
      "language": "python",
      "name": "python3"
    },
    "language_info": {
      "codemirror_mode": {
        "name": "ipython",
        "version": 3
      },
      "file_extension": ".py",
      "mimetype": "text/x-python",
      "name": "python",
      "nbconvert_exporter": "python",
      "pygments_lexer": "ipython3",
      "version": "3.9.12"
    }
  },
  "nbformat": 4,
  "nbformat_minor": 0
}