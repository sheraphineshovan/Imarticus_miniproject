{
  "nbformat": 4,
  "nbformat_minor": 0,
  "metadata": {
    "colab": {
      "provenance": [],
      "authorship_tag": "ABX9TyNdaq1d3hs5NtLWIcBgxTsb",
      "include_colab_link": true
    },
    "kernelspec": {
      "name": "python3",
      "display_name": "Python 3"
    },
    "language_info": {
      "name": "python"
    }
  },
  "cells": [
    {
      "cell_type": "markdown",
      "metadata": {
        "id": "view-in-github",
        "colab_type": "text"
      },
      "source": [
        "<a href=\"https://colab.research.google.com/github/sheraphineshovan/Imarticus_miniproject/blob/main/Driver_alert.ipynb\" target=\"_parent\"><img src=\"https://colab.research.google.com/assets/colab-badge.svg\" alt=\"Open In Colab\"/></a>"
      ]
    },
    {
      "cell_type": "code",
      "execution_count": 2,
      "metadata": {
        "colab": {
          "base_uri": "https://localhost:8080/"
        },
        "id": "bXOUaDEObNg4",
        "outputId": "5e9379ef-a5ea-4e96-f45c-a30d3274b8d9"
      },
      "outputs": [
        {
          "output_type": "stream",
          "name": "stdout",
          "text": [
            "Archive:  /content/stayalert (1).zip\n",
            "  inflating: Solution.csv            \n",
            "  inflating: example_submission.csv  \n",
            "  inflating: fordTest.csv            \n",
            "  inflating: fordTrain.csv           \n"
          ]
        }
      ],
      "source": [
        "!unzip '/content/stayalert (1).zip'"
      ]
    },
    {
      "cell_type": "code",
      "source": [
        "import pandas as pd\n",
        "import numpy as np\n",
        "import matplotlib.pyplot as plt\n",
        "import seaborn as sns\n",
        "from sklearn.model_selection import train_test_split\n",
        "from sklearn.preprocessing import LabelEncoder\n",
        "from sklearn.tree import DecisionTreeClassifier\n",
        "from sklearn.linear_model import LogisticRegression\n",
        "from sklearn.metrics import accuracy_score, confusion_matrix, classification_report\n",
        "from scipy import stats\n",
        "from sklearn.ensemble import RandomForestClassifier, AdaBoostClassifier , GradientBoostingClassifier"
      ],
      "metadata": {
        "id": "E35WIt4JeJvN"
      },
      "execution_count": 3,
      "outputs": []
    },
    {
      "cell_type": "code",
      "source": [
        "train = pd.read_csv(\"/content/fordTrain.csv\")\n",
        "test = pd.read_csv('/content/fordTest.csv')"
      ],
      "metadata": {
        "id": "6z3mg4ukUZwJ"
      },
      "execution_count": 4,
      "outputs": []
    },
    {
      "cell_type": "code",
      "source": [
        "train.info()"
      ],
      "metadata": {
        "colab": {
          "base_uri": "https://localhost:8080/"
        },
        "id": "eUKT2MVGjV7V",
        "outputId": "2dd8e9ca-e176-4267-f999-ddc9a9689258"
      },
      "execution_count": 5,
      "outputs": [
        {
          "output_type": "stream",
          "name": "stdout",
          "text": [
            "<class 'pandas.core.frame.DataFrame'>\n",
            "RangeIndex: 604329 entries, 0 to 604328\n",
            "Data columns (total 33 columns):\n",
            " #   Column   Non-Null Count   Dtype  \n",
            "---  ------   --------------   -----  \n",
            " 0   TrialID  604329 non-null  int64  \n",
            " 1   ObsNum   604329 non-null  int64  \n",
            " 2   IsAlert  604329 non-null  int64  \n",
            " 3   P1       604329 non-null  float64\n",
            " 4   P2       604329 non-null  float64\n",
            " 5   P3       604329 non-null  int64  \n",
            " 6   P4       604329 non-null  float64\n",
            " 7   P5       604329 non-null  float64\n",
            " 8   P6       604329 non-null  int64  \n",
            " 9   P7       604329 non-null  float64\n",
            " 10  P8       604329 non-null  int64  \n",
            " 11  E1       604329 non-null  float64\n",
            " 12  E2       604329 non-null  float64\n",
            " 13  E3       604329 non-null  int64  \n",
            " 14  E4       604329 non-null  int64  \n",
            " 15  E5       604329 non-null  float64\n",
            " 16  E6       604329 non-null  int64  \n",
            " 17  E7       604329 non-null  int64  \n",
            " 18  E8       604329 non-null  int64  \n",
            " 19  E9       604329 non-null  int64  \n",
            " 20  E10      604329 non-null  int64  \n",
            " 21  E11      604329 non-null  float64\n",
            " 22  V1       604329 non-null  float64\n",
            " 23  V2       604329 non-null  float64\n",
            " 24  V3       604329 non-null  int64  \n",
            " 25  V4       604329 non-null  float64\n",
            " 26  V5       604329 non-null  int64  \n",
            " 27  V6       604329 non-null  int64  \n",
            " 28  V7       604329 non-null  int64  \n",
            " 29  V8       604329 non-null  float64\n",
            " 30  V9       604329 non-null  int64  \n",
            " 31  V10      604329 non-null  int64  \n",
            " 32  V11      604329 non-null  float64\n",
            "dtypes: float64(14), int64(19)\n",
            "memory usage: 152.2 MB\n"
          ]
        }
      ]
    },
    {
      "cell_type": "code",
      "source": [
        "train.isnull().sum()"
      ],
      "metadata": {
        "colab": {
          "base_uri": "https://localhost:8080/"
        },
        "id": "VsNLuIzLjp8L",
        "outputId": "f4671734-928c-4fd1-892a-5506745a1634"
      },
      "execution_count": 6,
      "outputs": [
        {
          "output_type": "execute_result",
          "data": {
            "text/plain": [
              "TrialID    0\n",
              "ObsNum     0\n",
              "IsAlert    0\n",
              "P1         0\n",
              "P2         0\n",
              "P3         0\n",
              "P4         0\n",
              "P5         0\n",
              "P6         0\n",
              "P7         0\n",
              "P8         0\n",
              "E1         0\n",
              "E2         0\n",
              "E3         0\n",
              "E4         0\n",
              "E5         0\n",
              "E6         0\n",
              "E7         0\n",
              "E8         0\n",
              "E9         0\n",
              "E10        0\n",
              "E11        0\n",
              "V1         0\n",
              "V2         0\n",
              "V3         0\n",
              "V4         0\n",
              "V5         0\n",
              "V6         0\n",
              "V7         0\n",
              "V8         0\n",
              "V9         0\n",
              "V10        0\n",
              "V11        0\n",
              "dtype: int64"
            ]
          },
          "metadata": {},
          "execution_count": 6
        }
      ]
    },
    {
      "cell_type": "code",
      "source": [
        "test.info()"
      ],
      "metadata": {
        "colab": {
          "base_uri": "https://localhost:8080/"
        },
        "id": "7CWcB1vhj2av",
        "outputId": "2560612b-e5cb-4f59-82da-792842807ece"
      },
      "execution_count": 57,
      "outputs": [
        {
          "output_type": "stream",
          "name": "stdout",
          "text": [
            "<class 'pandas.core.frame.DataFrame'>\n",
            "RangeIndex: 120840 entries, 0 to 120839\n",
            "Data columns (total 33 columns):\n",
            " #   Column   Non-Null Count   Dtype  \n",
            "---  ------   --------------   -----  \n",
            " 0   TrialID  120840 non-null  int64  \n",
            " 1   ObsNum   120840 non-null  int64  \n",
            " 2   IsAlert  120840 non-null  int64  \n",
            " 3   P1       120840 non-null  float64\n",
            " 4   P2       120840 non-null  float64\n",
            " 5   P3       120840 non-null  int64  \n",
            " 6   P4       120840 non-null  float64\n",
            " 7   P5       120840 non-null  float64\n",
            " 8   P6       120840 non-null  int64  \n",
            " 9   P7       120840 non-null  float64\n",
            " 10  P8       120840 non-null  int64  \n",
            " 11  E1       120840 non-null  float64\n",
            " 12  E2       120840 non-null  float64\n",
            " 13  E3       120840 non-null  int64  \n",
            " 14  E4       120840 non-null  int64  \n",
            " 15  E5       120840 non-null  float64\n",
            " 16  E6       120840 non-null  int64  \n",
            " 17  E7       120840 non-null  int64  \n",
            " 18  E8       120840 non-null  int64  \n",
            " 19  E9       120840 non-null  int64  \n",
            " 20  E10      120840 non-null  int64  \n",
            " 21  E11      120840 non-null  float64\n",
            " 22  V1       120840 non-null  float64\n",
            " 23  V2       120840 non-null  float64\n",
            " 24  V3       120840 non-null  int64  \n",
            " 25  V4       120840 non-null  float64\n",
            " 26  V5       120840 non-null  int64  \n",
            " 27  V6       120840 non-null  int64  \n",
            " 28  V7       120840 non-null  int64  \n",
            " 29  V8       120840 non-null  float64\n",
            " 30  V9       120840 non-null  int64  \n",
            " 31  V10      120840 non-null  int64  \n",
            " 32  V11      120840 non-null  float64\n",
            "dtypes: float64(14), int64(19)\n",
            "memory usage: 30.4 MB\n"
          ]
        }
      ]
    },
    {
      "cell_type": "code",
      "source": [
        "test.isnull().sum()"
      ],
      "metadata": {
        "colab": {
          "base_uri": "https://localhost:8080/"
        },
        "id": "fOXxDxnscUuP",
        "outputId": "f1da5015-aa81-4e73-d3d0-111c57c28f39"
      },
      "execution_count": 60,
      "outputs": [
        {
          "output_type": "execute_result",
          "data": {
            "text/plain": [
              "TrialID    0\n",
              "ObsNum     0\n",
              "IsAlert    0\n",
              "P1         0\n",
              "P2         0\n",
              "P3         0\n",
              "P4         0\n",
              "P5         0\n",
              "P6         0\n",
              "P7         0\n",
              "P8         0\n",
              "E1         0\n",
              "E2         0\n",
              "E3         0\n",
              "E4         0\n",
              "E5         0\n",
              "E6         0\n",
              "E7         0\n",
              "E8         0\n",
              "E9         0\n",
              "E10        0\n",
              "E11        0\n",
              "V1         0\n",
              "V2         0\n",
              "V3         0\n",
              "V4         0\n",
              "V5         0\n",
              "V6         0\n",
              "V7         0\n",
              "V8         0\n",
              "V9         0\n",
              "V10        0\n",
              "V11        0\n",
              "dtype: int64"
            ]
          },
          "metadata": {},
          "execution_count": 60
        }
      ]
    },
    {
      "cell_type": "code",
      "source": [
        "train.describe()"
      ],
      "metadata": {
        "colab": {
          "base_uri": "https://localhost:8080/",
          "height": 394
        },
        "id": "odtsQM95lFNq",
        "outputId": "405eac39-6ca7-4efd-9668-2d7f0bcea7fc"
      },
      "execution_count": 9,
      "outputs": [
        {
          "output_type": "execute_result",
          "data": {
            "text/plain": [
              "             TrialID         ObsNum        IsAlert             P1  \\\n",
              "count  604329.000000  604329.000000  604329.000000  604329.000000   \n",
              "mean      250.167657     603.841765       0.578799      35.449020   \n",
              "std       145.446164     348.931601       0.493752       7.484629   \n",
              "min         0.000000       0.000000       0.000000     -22.481200   \n",
              "25%       125.000000     302.000000       0.000000      31.758100   \n",
              "50%       250.000000     604.000000       1.000000      34.145100   \n",
              "75%       374.000000     906.000000       1.000000      37.311900   \n",
              "max       510.000000    1210.000000       1.000000     101.351000   \n",
              "\n",
              "                  P2             P3             P4             P5  \\\n",
              "count  604329.000000  604329.000000  604329.000000  604329.000000   \n",
              "mean       11.996525    1026.671035      64.061965       0.178923   \n",
              "std         3.760292     309.277877      19.755950       0.372309   \n",
              "min       -45.629200     504.000000      23.885300       0.038920   \n",
              "25%         9.903540     792.000000      49.180300       0.092110   \n",
              "50%        11.400400    1000.000000      60.000000       0.105083   \n",
              "75%        13.644200    1220.000000      75.757600       0.138814   \n",
              "max        71.173700    2512.000000     119.048000      27.202200   \n",
              "\n",
              "                  P6             P7  ...             V2             V3  \\\n",
              "count  604329.000000  604329.000000  ...  604329.000000  604329.000000   \n",
              "mean      845.384610      77.887628  ...      -0.037710     573.786433   \n",
              "std      2505.335141      18.577930  ...       0.403896     298.412888   \n",
              "min       128.000000       0.262224  ...      -4.795000     240.000000   \n",
              "25%       668.000000      66.666700  ...      -0.175000     255.000000   \n",
              "50%       800.000000      75.000000  ...       0.000000     511.000000   \n",
              "75%       900.000000      89.820400  ...       0.070000     767.000000   \n",
              "max    228812.000000     468.750000  ...       3.990000    1023.000000   \n",
              "\n",
              "                  V4             V5             V6        V7             V8  \\\n",
              "count  604329.000000  604329.000000  604329.000000  604329.0  604329.000000   \n",
              "mean       19.961030       0.179814    1715.688383       0.0      12.710354   \n",
              "std        63.269456       0.384033     618.176470       0.0      11.532085   \n",
              "min         0.000000       0.000000       0.000000       0.0       0.000000   \n",
              "25%         1.487500       0.000000    1259.000000       0.0       0.000000   \n",
              "50%         3.018750       0.000000    1994.000000       0.0      12.800000   \n",
              "75%         7.481250       0.000000    2146.000000       0.0      21.900000   \n",
              "max       484.488000       1.000000    4892.000000       0.0      82.100000   \n",
              "\n",
              "             V9            V10            V11  \n",
              "count  604329.0  604329.000000  604329.000000  \n",
              "mean        0.0       3.312257      11.668277  \n",
              "std         0.0       1.243586       9.934423  \n",
              "min         0.0       1.000000       1.676730  \n",
              "25%         0.0       3.000000       7.947680  \n",
              "50%         0.0       4.000000      10.772600  \n",
              "75%         0.0       4.000000      15.270900  \n",
              "max         0.0       7.000000     262.534000  \n",
              "\n",
              "[8 rows x 33 columns]"
            ],
            "text/html": [
              "\n",
              "  <div id=\"df-bee5cf5e-15fa-4bd0-90e5-a3898ac29a9b\">\n",
              "    <div class=\"colab-df-container\">\n",
              "      <div>\n",
              "<style scoped>\n",
              "    .dataframe tbody tr th:only-of-type {\n",
              "        vertical-align: middle;\n",
              "    }\n",
              "\n",
              "    .dataframe tbody tr th {\n",
              "        vertical-align: top;\n",
              "    }\n",
              "\n",
              "    .dataframe thead th {\n",
              "        text-align: right;\n",
              "    }\n",
              "</style>\n",
              "<table border=\"1\" class=\"dataframe\">\n",
              "  <thead>\n",
              "    <tr style=\"text-align: right;\">\n",
              "      <th></th>\n",
              "      <th>TrialID</th>\n",
              "      <th>ObsNum</th>\n",
              "      <th>IsAlert</th>\n",
              "      <th>P1</th>\n",
              "      <th>P2</th>\n",
              "      <th>P3</th>\n",
              "      <th>P4</th>\n",
              "      <th>P5</th>\n",
              "      <th>P6</th>\n",
              "      <th>P7</th>\n",
              "      <th>...</th>\n",
              "      <th>V2</th>\n",
              "      <th>V3</th>\n",
              "      <th>V4</th>\n",
              "      <th>V5</th>\n",
              "      <th>V6</th>\n",
              "      <th>V7</th>\n",
              "      <th>V8</th>\n",
              "      <th>V9</th>\n",
              "      <th>V10</th>\n",
              "      <th>V11</th>\n",
              "    </tr>\n",
              "  </thead>\n",
              "  <tbody>\n",
              "    <tr>\n",
              "      <th>count</th>\n",
              "      <td>604329.000000</td>\n",
              "      <td>604329.000000</td>\n",
              "      <td>604329.000000</td>\n",
              "      <td>604329.000000</td>\n",
              "      <td>604329.000000</td>\n",
              "      <td>604329.000000</td>\n",
              "      <td>604329.000000</td>\n",
              "      <td>604329.000000</td>\n",
              "      <td>604329.000000</td>\n",
              "      <td>604329.000000</td>\n",
              "      <td>...</td>\n",
              "      <td>604329.000000</td>\n",
              "      <td>604329.000000</td>\n",
              "      <td>604329.000000</td>\n",
              "      <td>604329.000000</td>\n",
              "      <td>604329.000000</td>\n",
              "      <td>604329.0</td>\n",
              "      <td>604329.000000</td>\n",
              "      <td>604329.0</td>\n",
              "      <td>604329.000000</td>\n",
              "      <td>604329.000000</td>\n",
              "    </tr>\n",
              "    <tr>\n",
              "      <th>mean</th>\n",
              "      <td>250.167657</td>\n",
              "      <td>603.841765</td>\n",
              "      <td>0.578799</td>\n",
              "      <td>35.449020</td>\n",
              "      <td>11.996525</td>\n",
              "      <td>1026.671035</td>\n",
              "      <td>64.061965</td>\n",
              "      <td>0.178923</td>\n",
              "      <td>845.384610</td>\n",
              "      <td>77.887628</td>\n",
              "      <td>...</td>\n",
              "      <td>-0.037710</td>\n",
              "      <td>573.786433</td>\n",
              "      <td>19.961030</td>\n",
              "      <td>0.179814</td>\n",
              "      <td>1715.688383</td>\n",
              "      <td>0.0</td>\n",
              "      <td>12.710354</td>\n",
              "      <td>0.0</td>\n",
              "      <td>3.312257</td>\n",
              "      <td>11.668277</td>\n",
              "    </tr>\n",
              "    <tr>\n",
              "      <th>std</th>\n",
              "      <td>145.446164</td>\n",
              "      <td>348.931601</td>\n",
              "      <td>0.493752</td>\n",
              "      <td>7.484629</td>\n",
              "      <td>3.760292</td>\n",
              "      <td>309.277877</td>\n",
              "      <td>19.755950</td>\n",
              "      <td>0.372309</td>\n",
              "      <td>2505.335141</td>\n",
              "      <td>18.577930</td>\n",
              "      <td>...</td>\n",
              "      <td>0.403896</td>\n",
              "      <td>298.412888</td>\n",
              "      <td>63.269456</td>\n",
              "      <td>0.384033</td>\n",
              "      <td>618.176470</td>\n",
              "      <td>0.0</td>\n",
              "      <td>11.532085</td>\n",
              "      <td>0.0</td>\n",
              "      <td>1.243586</td>\n",
              "      <td>9.934423</td>\n",
              "    </tr>\n",
              "    <tr>\n",
              "      <th>min</th>\n",
              "      <td>0.000000</td>\n",
              "      <td>0.000000</td>\n",
              "      <td>0.000000</td>\n",
              "      <td>-22.481200</td>\n",
              "      <td>-45.629200</td>\n",
              "      <td>504.000000</td>\n",
              "      <td>23.885300</td>\n",
              "      <td>0.038920</td>\n",
              "      <td>128.000000</td>\n",
              "      <td>0.262224</td>\n",
              "      <td>...</td>\n",
              "      <td>-4.795000</td>\n",
              "      <td>240.000000</td>\n",
              "      <td>0.000000</td>\n",
              "      <td>0.000000</td>\n",
              "      <td>0.000000</td>\n",
              "      <td>0.0</td>\n",
              "      <td>0.000000</td>\n",
              "      <td>0.0</td>\n",
              "      <td>1.000000</td>\n",
              "      <td>1.676730</td>\n",
              "    </tr>\n",
              "    <tr>\n",
              "      <th>25%</th>\n",
              "      <td>125.000000</td>\n",
              "      <td>302.000000</td>\n",
              "      <td>0.000000</td>\n",
              "      <td>31.758100</td>\n",
              "      <td>9.903540</td>\n",
              "      <td>792.000000</td>\n",
              "      <td>49.180300</td>\n",
              "      <td>0.092110</td>\n",
              "      <td>668.000000</td>\n",
              "      <td>66.666700</td>\n",
              "      <td>...</td>\n",
              "      <td>-0.175000</td>\n",
              "      <td>255.000000</td>\n",
              "      <td>1.487500</td>\n",
              "      <td>0.000000</td>\n",
              "      <td>1259.000000</td>\n",
              "      <td>0.0</td>\n",
              "      <td>0.000000</td>\n",
              "      <td>0.0</td>\n",
              "      <td>3.000000</td>\n",
              "      <td>7.947680</td>\n",
              "    </tr>\n",
              "    <tr>\n",
              "      <th>50%</th>\n",
              "      <td>250.000000</td>\n",
              "      <td>604.000000</td>\n",
              "      <td>1.000000</td>\n",
              "      <td>34.145100</td>\n",
              "      <td>11.400400</td>\n",
              "      <td>1000.000000</td>\n",
              "      <td>60.000000</td>\n",
              "      <td>0.105083</td>\n",
              "      <td>800.000000</td>\n",
              "      <td>75.000000</td>\n",
              "      <td>...</td>\n",
              "      <td>0.000000</td>\n",
              "      <td>511.000000</td>\n",
              "      <td>3.018750</td>\n",
              "      <td>0.000000</td>\n",
              "      <td>1994.000000</td>\n",
              "      <td>0.0</td>\n",
              "      <td>12.800000</td>\n",
              "      <td>0.0</td>\n",
              "      <td>4.000000</td>\n",
              "      <td>10.772600</td>\n",
              "    </tr>\n",
              "    <tr>\n",
              "      <th>75%</th>\n",
              "      <td>374.000000</td>\n",
              "      <td>906.000000</td>\n",
              "      <td>1.000000</td>\n",
              "      <td>37.311900</td>\n",
              "      <td>13.644200</td>\n",
              "      <td>1220.000000</td>\n",
              "      <td>75.757600</td>\n",
              "      <td>0.138814</td>\n",
              "      <td>900.000000</td>\n",
              "      <td>89.820400</td>\n",
              "      <td>...</td>\n",
              "      <td>0.070000</td>\n",
              "      <td>767.000000</td>\n",
              "      <td>7.481250</td>\n",
              "      <td>0.000000</td>\n",
              "      <td>2146.000000</td>\n",
              "      <td>0.0</td>\n",
              "      <td>21.900000</td>\n",
              "      <td>0.0</td>\n",
              "      <td>4.000000</td>\n",
              "      <td>15.270900</td>\n",
              "    </tr>\n",
              "    <tr>\n",
              "      <th>max</th>\n",
              "      <td>510.000000</td>\n",
              "      <td>1210.000000</td>\n",
              "      <td>1.000000</td>\n",
              "      <td>101.351000</td>\n",
              "      <td>71.173700</td>\n",
              "      <td>2512.000000</td>\n",
              "      <td>119.048000</td>\n",
              "      <td>27.202200</td>\n",
              "      <td>228812.000000</td>\n",
              "      <td>468.750000</td>\n",
              "      <td>...</td>\n",
              "      <td>3.990000</td>\n",
              "      <td>1023.000000</td>\n",
              "      <td>484.488000</td>\n",
              "      <td>1.000000</td>\n",
              "      <td>4892.000000</td>\n",
              "      <td>0.0</td>\n",
              "      <td>82.100000</td>\n",
              "      <td>0.0</td>\n",
              "      <td>7.000000</td>\n",
              "      <td>262.534000</td>\n",
              "    </tr>\n",
              "  </tbody>\n",
              "</table>\n",
              "<p>8 rows × 33 columns</p>\n",
              "</div>\n",
              "      <button class=\"colab-df-convert\" onclick=\"convertToInteractive('df-bee5cf5e-15fa-4bd0-90e5-a3898ac29a9b')\"\n",
              "              title=\"Convert this dataframe to an interactive table.\"\n",
              "              style=\"display:none;\">\n",
              "        \n",
              "  <svg xmlns=\"http://www.w3.org/2000/svg\" height=\"24px\"viewBox=\"0 0 24 24\"\n",
              "       width=\"24px\">\n",
              "    <path d=\"M0 0h24v24H0V0z\" fill=\"none\"/>\n",
              "    <path d=\"M18.56 5.44l.94 2.06.94-2.06 2.06-.94-2.06-.94-.94-2.06-.94 2.06-2.06.94zm-11 1L8.5 8.5l.94-2.06 2.06-.94-2.06-.94L8.5 2.5l-.94 2.06-2.06.94zm10 10l.94 2.06.94-2.06 2.06-.94-2.06-.94-.94-2.06-.94 2.06-2.06.94z\"/><path d=\"M17.41 7.96l-1.37-1.37c-.4-.4-.92-.59-1.43-.59-.52 0-1.04.2-1.43.59L10.3 9.45l-7.72 7.72c-.78.78-.78 2.05 0 2.83L4 21.41c.39.39.9.59 1.41.59.51 0 1.02-.2 1.41-.59l7.78-7.78 2.81-2.81c.8-.78.8-2.07 0-2.86zM5.41 20L4 18.59l7.72-7.72 1.47 1.35L5.41 20z\"/>\n",
              "  </svg>\n",
              "      </button>\n",
              "      \n",
              "  <style>\n",
              "    .colab-df-container {\n",
              "      display:flex;\n",
              "      flex-wrap:wrap;\n",
              "      gap: 12px;\n",
              "    }\n",
              "\n",
              "    .colab-df-convert {\n",
              "      background-color: #E8F0FE;\n",
              "      border: none;\n",
              "      border-radius: 50%;\n",
              "      cursor: pointer;\n",
              "      display: none;\n",
              "      fill: #1967D2;\n",
              "      height: 32px;\n",
              "      padding: 0 0 0 0;\n",
              "      width: 32px;\n",
              "    }\n",
              "\n",
              "    .colab-df-convert:hover {\n",
              "      background-color: #E2EBFA;\n",
              "      box-shadow: 0px 1px 2px rgba(60, 64, 67, 0.3), 0px 1px 3px 1px rgba(60, 64, 67, 0.15);\n",
              "      fill: #174EA6;\n",
              "    }\n",
              "\n",
              "    [theme=dark] .colab-df-convert {\n",
              "      background-color: #3B4455;\n",
              "      fill: #D2E3FC;\n",
              "    }\n",
              "\n",
              "    [theme=dark] .colab-df-convert:hover {\n",
              "      background-color: #434B5C;\n",
              "      box-shadow: 0px 1px 3px 1px rgba(0, 0, 0, 0.15);\n",
              "      filter: drop-shadow(0px 1px 2px rgba(0, 0, 0, 0.3));\n",
              "      fill: #FFFFFF;\n",
              "    }\n",
              "  </style>\n",
              "\n",
              "      <script>\n",
              "        const buttonEl =\n",
              "          document.querySelector('#df-bee5cf5e-15fa-4bd0-90e5-a3898ac29a9b button.colab-df-convert');\n",
              "        buttonEl.style.display =\n",
              "          google.colab.kernel.accessAllowed ? 'block' : 'none';\n",
              "\n",
              "        async function convertToInteractive(key) {\n",
              "          const element = document.querySelector('#df-bee5cf5e-15fa-4bd0-90e5-a3898ac29a9b');\n",
              "          const dataTable =\n",
              "            await google.colab.kernel.invokeFunction('convertToInteractive',\n",
              "                                                     [key], {});\n",
              "          if (!dataTable) return;\n",
              "\n",
              "          const docLinkHtml = 'Like what you see? Visit the ' +\n",
              "            '<a target=\"_blank\" href=https://colab.research.google.com/notebooks/data_table.ipynb>data table notebook</a>'\n",
              "            + ' to learn more about interactive tables.';\n",
              "          element.innerHTML = '';\n",
              "          dataTable['output_type'] = 'display_data';\n",
              "          await google.colab.output.renderOutput(dataTable, element);\n",
              "          const docLink = document.createElement('div');\n",
              "          docLink.innerHTML = docLinkHtml;\n",
              "          element.appendChild(docLink);\n",
              "        }\n",
              "      </script>\n",
              "    </div>\n",
              "  </div>\n",
              "  "
            ]
          },
          "metadata": {},
          "execution_count": 9
        }
      ]
    },
    {
      "cell_type": "code",
      "source": [
        "train.skew()"
      ],
      "metadata": {
        "colab": {
          "base_uri": "https://localhost:8080/"
        },
        "id": "eIBt4066lOU5",
        "outputId": "aa773861-2016-4df9-ff42-83bb3590d392"
      },
      "execution_count": 10,
      "outputs": [
        {
          "output_type": "execute_result",
          "data": {
            "text/plain": [
              "TrialID     0.024138\n",
              "ObsNum      0.000214\n",
              "IsAlert    -0.319185\n",
              "P1          2.445986\n",
              "P2          0.863450\n",
              "P3          0.507984\n",
              "P4          0.643117\n",
              "P5         20.225034\n",
              "P6         89.789752\n",
              "P7          1.937124\n",
              "P8          0.000000\n",
              "E1          0.766075\n",
              "E2          0.754220\n",
              "E3          3.352342\n",
              "E4         -2.467771\n",
              "E5          0.175100\n",
              "E6         -0.469872\n",
              "E7          2.844119\n",
              "E8          2.200218\n",
              "E9         -2.292728\n",
              "E10        -0.433540\n",
              "E11         4.062888\n",
              "V1         -0.941470\n",
              "V2         -0.759452\n",
              "V3          0.261053\n",
              "V4          5.144928\n",
              "V5          1.667496\n",
              "V6         -0.871827\n",
              "V7          0.000000\n",
              "V8          0.406715\n",
              "V9          0.000000\n",
              "V10        -1.172114\n",
              "V11        21.165566\n",
              "dtype: float64"
            ]
          },
          "metadata": {},
          "execution_count": 10
        }
      ]
    },
    {
      "cell_type": "code",
      "source": [
        "train['P5'].plot(kind = 'box')"
      ],
      "metadata": {
        "colab": {
          "base_uri": "https://localhost:8080/",
          "height": 282
        },
        "id": "3OrcO22KlfdZ",
        "outputId": "bed640fc-4099-4e2e-d4a2-8068036ebde4"
      },
      "execution_count": 11,
      "outputs": [
        {
          "output_type": "execute_result",
          "data": {
            "text/plain": [
              "<AxesSubplot:>"
            ]
          },
          "metadata": {},
          "execution_count": 11
        },
        {
          "output_type": "display_data",
          "data": {
            "text/plain": [
              "<Figure size 432x288 with 1 Axes>"
            ],
            "image/png": "[encoded data removed]"
          },
          "metadata": {
            "needs_background": "light"
          }
        }
      ]
    },
    {
      "cell_type": "code",
      "source": [
        "train['P2'].plot(kind = 'box')"
      ],
      "metadata": {
        "colab": {
          "base_uri": "https://localhost:8080/",
          "height": 282
        },
        "id": "ErnavEqDm3j-",
        "outputId": "c12f9b59-e083-48d4-d609-60176a52ef93"
      },
      "execution_count": 12,
      "outputs": [
        {
          "output_type": "execute_result",
          "data": {
            "text/plain": [
              "<AxesSubplot:>"
            ]
          },
          "metadata": {},
          "execution_count": 12
        },
        {
          "output_type": "display_data",
          "data": {
            "text/plain": [
              "<Figure size 432x288 with 1 Axes>"
            ],
            "image/png": "[encoded data removed]"
          },
          "metadata": {
            "needs_background": "light"
          }
        }
      ]
    },
    {
      "cell_type": "markdown",
      "source": [
        "Bi-Variate Analysis"
      ],
      "metadata": {
        "id": "U6cKo7BSor10"
      }
    },
    {
      "cell_type": "code",
      "source": [
        "sns.heatmap(train.corr())"
      ],
      "metadata": {
        "colab": {
          "base_uri": "https://localhost:8080/",
          "height": 308
        },
        "id": "S5yfxUQWoERS",
        "outputId": "a4f5f649-84ca-4da7-fc15-4512fb667301"
      },
      "execution_count": 13,
      "outputs": [
        {
          "output_type": "execute_result",
          "data": {
            "text/plain": [
              "<AxesSubplot:>"
            ]
          },
          "metadata": {},
          "execution_count": 13
        },
        {
          "output_type": "display_data",
          "data": {
            "text/plain": [
              "<Figure size 432x288 with 2 Axes>"
            ],
            "image/png": "[encoded data removed]"
          },
          "metadata": {
            "needs_background": "light"
          }
        }
      ]
    },
    {
      "cell_type": "code",
      "source": [
        "x = train.iloc[:,3:]"
      ],
      "metadata": {
        "id": "hC3vOHiTo2c8"
      },
      "execution_count": 14,
      "outputs": []
    },
    {
      "cell_type": "code",
      "source": [
        "y = train['IsAlert']"
      ],
      "metadata": {
        "id": "FstAgU7wrKLK"
      },
      "execution_count": 15,
      "outputs": []
    },
    {
      "cell_type": "code",
      "source": [
        "print(x.shape)\n",
        "print(y.shape)"
      ],
      "metadata": {
        "colab": {
          "base_uri": "https://localhost:8080/"
        },
        "id": "IawdJNjOrPKM",
        "outputId": "be73d985-6164-46f8-bc08-eadade4ae149"
      },
      "execution_count": 16,
      "outputs": [
        {
          "output_type": "stream",
          "name": "stdout",
          "text": [
            "(604329, 30)\n",
            "(604329,)\n"
          ]
        }
      ]
    },
    {
      "cell_type": "markdown",
      "source": [
        "Split data into train and test"
      ],
      "metadata": {
        "id": "UqucJR4QrsJs"
      }
    },
    {
      "cell_type": "code",
      "source": [
        "x_train,x_test,y_train,y_test = train_test_split(x,y,test_size=0.2,random_state=123)"
      ],
      "metadata": {
        "id": "cfsLCuFwraXq"
      },
      "execution_count": 17,
      "outputs": []
    },
    {
      "cell_type": "code",
      "source": [
        "print(x_train.shape)\n",
        "print(x_test.shape)\n",
        "print(y_train.shape)\n",
        "print(y_test.shape)"
      ],
      "metadata": {
        "colab": {
          "base_uri": "https://localhost:8080/"
        },
        "id": "h8dTWUXbsIpH",
        "outputId": "620bb56a-0140-4b72-a406-511aeb4dd174"
      },
      "execution_count": 18,
      "outputs": [
        {
          "output_type": "stream",
          "name": "stdout",
          "text": [
            "(483463, 30)\n",
            "(120866, 30)\n",
            "(483463,)\n",
            "(120866,)\n"
          ]
        }
      ]
    },
    {
      "cell_type": "code",
      "source": [
        "lr = LogisticRegression()\n",
        "lr.fit(x_train, y_train)\n",
        "pred_ytrain_lr = lr.predict(x_train)\n",
        "pred_ytest_lr = lr.predict(x_test) "
      ],
      "metadata": {
        "colab": {
          "base_uri": "https://localhost:8080/"
        },
        "id": "DPGgOAPxscaH",
        "outputId": "91d019f6-8de8-491f-f4d1-a75ae4e2bf2c"
      },
      "execution_count": 19,
      "outputs": [
        {
          "output_type": "stream",
          "name": "stderr",
          "text": [
            "/usr/local/lib/python3.9/dist-packages/sklearn/linear_model/_logistic.py:458: ConvergenceWarning: lbfgs failed to converge (status=1):\n",
            "STOP: TOTAL NO. of ITERATIONS REACHED LIMIT.\n",
            "\n",
            "Increase the number of iterations (max_iter) or scale the data as shown in:\n",
            "    https://scikit-learn.org/stable/modules/preprocessing.html\n",
            "Please also refer to the documentation for alternative solver options:\n",
            "    https://scikit-learn.org/stable/modules/linear_model.html#logistic-regression\n",
            "  n_iter_i = _check_optimize_result(\n"
          ]
        }
      ]
    },
    {
      "cell_type": "code",
      "source": [
        "def acc_report(actual,predicted):\n",
        "  acc_score = accuracy_score(actual,predicted)\n",
        "  cm_matrix = confusion_matrix(actual,predicted)\n",
        "  class_rep = classification_report(actual,predicted)\n",
        "  print(\"The accuracy is \", round(acc_score,2))\n",
        "  print(cm_matrix)\n",
        "  print(class_rep)"
      ],
      "metadata": {
        "id": "IzGWMRODsvF_"
      },
      "execution_count": 20,
      "outputs": []
    },
    {
      "cell_type": "code",
      "source": [
        "acc_report(y_train,pred_ytrain_lr)"
      ],
      "metadata": {
        "id": "qKCOiAJxs7TY",
        "colab": {
          "base_uri": "https://localhost:8080/"
        },
        "outputId": "076128a7-8197-40c1-a0e8-de84b035fe74"
      },
      "execution_count": 21,
      "outputs": [
        {
          "output_type": "stream",
          "name": "stdout",
          "text": [
            "The accuracy is  0.71\n",
            "[[130399  72928]\n",
            " [ 65193 214943]]\n",
            "              precision    recall  f1-score   support\n",
            "\n",
            "           0       0.67      0.64      0.65    203327\n",
            "           1       0.75      0.77      0.76    280136\n",
            "\n",
            "    accuracy                           0.71    483463\n",
            "   macro avg       0.71      0.70      0.71    483463\n",
            "weighted avg       0.71      0.71      0.71    483463\n",
            "\n"
          ]
        }
      ]
    },
    {
      "cell_type": "code",
      "source": [
        "acc_report(y_test,pred_ytest_lr)"
      ],
      "metadata": {
        "id": "VFAxHq1qtBxe",
        "colab": {
          "base_uri": "https://localhost:8080/"
        },
        "outputId": "c01b0398-6efd-4e94-b33c-e93168da64ef"
      },
      "execution_count": 22,
      "outputs": [
        {
          "output_type": "stream",
          "name": "stdout",
          "text": [
            "The accuracy is  0.71\n",
            "[[32998 18219]\n",
            " [16315 53334]]\n",
            "              precision    recall  f1-score   support\n",
            "\n",
            "           0       0.67      0.64      0.66     51217\n",
            "           1       0.75      0.77      0.76     69649\n",
            "\n",
            "    accuracy                           0.71    120866\n",
            "   macro avg       0.71      0.71      0.71    120866\n",
            "weighted avg       0.71      0.71      0.71    120866\n",
            "\n"
          ]
        }
      ]
    },
    {
      "cell_type": "markdown",
      "source": [
        "Decision Tree Prediction"
      ],
      "metadata": {
        "id": "cUS-wpBswAmV"
      }
    },
    {
      "cell_type": "code",
      "source": [
        "  dtree = DecisionTreeClassifier()\n",
        "  dtree.fit(x_train,y_train)\n",
        "  preds_dtree_train = dtree.predict(x_train)\n",
        "  preds_dtree_test = dtree.predict(x_test)"
      ],
      "metadata": {
        "id": "tezSrdt6tJBq"
      },
      "execution_count": 31,
      "outputs": []
    },
    {
      "cell_type": "code",
      "source": [
        "acc_report(y_train,preds_dtree_train)"
      ],
      "metadata": {
        "id": "rKc-eJGjv-zc",
        "colab": {
          "base_uri": "https://localhost:8080/"
        },
        "outputId": "1a49cca1-b844-41e4-fb65-af61bc4f559e"
      },
      "execution_count": 32,
      "outputs": [
        {
          "output_type": "stream",
          "name": "stdout",
          "text": [
            "The accuracy is  1.0\n",
            "[[203327      0]\n",
            " [     0 280136]]\n",
            "              precision    recall  f1-score   support\n",
            "\n",
            "           0       1.00      1.00      1.00    203327\n",
            "           1       1.00      1.00      1.00    280136\n",
            "\n",
            "    accuracy                           1.00    483463\n",
            "   macro avg       1.00      1.00      1.00    483463\n",
            "weighted avg       1.00      1.00      1.00    483463\n",
            "\n"
          ]
        }
      ]
    },
    {
      "cell_type": "code",
      "source": [
        "acc_report(y_test,preds_dtree_test)"
      ],
      "metadata": {
        "id": "3FctTNlIwJO5",
        "colab": {
          "base_uri": "https://localhost:8080/"
        },
        "outputId": "61b7c070-1284-4992-fc46-c52af1d4816a"
      },
      "execution_count": 39,
      "outputs": [
        {
          "output_type": "stream",
          "name": "stdout",
          "text": [
            "The accuracy is  0.99\n",
            "[[50476   741]\n",
            " [  787 68862]]\n",
            "              precision    recall  f1-score   support\n",
            "\n",
            "           0       0.98      0.99      0.99     51217\n",
            "           1       0.99      0.99      0.99     69649\n",
            "\n",
            "    accuracy                           0.99    120866\n",
            "   macro avg       0.99      0.99      0.99    120866\n",
            "weighted avg       0.99      0.99      0.99    120866\n",
            "\n"
          ]
        }
      ]
    },
    {
      "cell_type": "code",
      "source": [
        "from sklearn.tree import plot_tree\n",
        "import matplotlib.pyplot as plt\n",
        "\n",
        "plt.figure()\n",
        "clf = DecisionTreeClassifier(max_depth = 3).fit(x_train,y_train)\n",
        "plot_tree(clf,filled=True)\n",
        "plt.title(\"Decision tree trained on all loan prediction features\")\n",
        "plt.show()\n"
      ],
      "metadata": {
        "colab": {
          "base_uri": "https://localhost:8080/",
          "height": 264
        },
        "id": "do3OA4yvwPgj",
        "outputId": "b76da5ff-9282-45ad-a237-ea5ba06a217f"
      },
      "execution_count": 26,
      "outputs": [
        {
          "output_type": "display_data",
          "data": {
            "text/plain": [
              "<Figure size 432x288 with 1 Axes>"
            ],
            "image/png": "[encoded data removed]"
          },
          "metadata": {
            "needs_background": "light"
          }
        }
      ]
    },
    {
      "cell_type": "markdown",
      "source": [
        "Random Forest Model"
      ],
      "metadata": {
        "id": "lPO7qbk2wsd2"
      }
    },
    {
      "cell_type": "code",
      "source": [
        "from sklearn.ensemble import RandomForestClassifier"
      ],
      "metadata": {
        "id": "QD5MHF25wTtY"
      },
      "execution_count": 42,
      "outputs": []
    },
    {
      "cell_type": "code",
      "source": [
        "rf = RandomForestClassifier()\n",
        "rf.fit(x_train,y_train)"
      ],
      "metadata": {
        "colab": {
          "base_uri": "https://localhost:8080/",
          "height": 75
        },
        "id": "R4O1Nmzbw0Iy",
        "outputId": "25c020a7-b09c-4b1e-ed30-823f60e56997"
      },
      "execution_count": 43,
      "outputs": [
        {
          "output_type": "execute_result",
          "data": {
            "text/plain": [
              "RandomForestClassifier()"
            ],
            "text/html": [
              "<style>#sk-container-id-2 {color: black;background-color: white;}#sk-container-id-2 pre{padding: 0;}#sk-container-id-2 div.sk-toggleable {background-color: white;}#sk-container-id-2 label.sk-toggleable__label {cursor: pointer;display: block;width: 100%;margin-bottom: 0;padding: 0.3em;box-sizing: border-box;text-align: center;}#sk-container-id-2 label.sk-toggleable__label-arrow:before {content: \"▸\";float: left;margin-right: 0.25em;color: #696969;}#sk-container-id-2 label.sk-toggleable__label-arrow:hover:before {color: black;}#sk-container-id-2 div.sk-estimator:hover label.sk-toggleable__label-arrow:before {color: black;}#sk-container-id-2 div.sk-toggleable__content {max-height: 0;max-width: 0;overflow: hidden;text-align: left;background-color: #f0f8ff;}#sk-container-id-2 div.sk-toggleable__content pre {margin: 0.2em;color: black;border-radius: 0.25em;background-color: #f0f8ff;}#sk-container-id-2 input.sk-toggleable__control:checked~div.sk-toggleable__content {max-height: 200px;max-width: 100%;overflow: auto;}#sk-container-id-2 input.sk-toggleable__control:checked~label.sk-toggleable__label-arrow:before {content: \"▾\";}#sk-container-id-2 div.sk-estimator input.sk-toggleable__control:checked~label.sk-toggleable__label {background-color: #d4ebff;}#sk-container-id-2 div.sk-label input.sk-toggleable__control:checked~label.sk-toggleable__label {background-color: #d4ebff;}#sk-container-id-2 input.sk-hidden--visually {border: 0;clip: rect(1px 1px 1px 1px);clip: rect(1px, 1px, 1px, 1px);height: 1px;margin: -1px;overflow: hidden;padding: 0;position: absolute;width: 1px;}#sk-container-id-2 div.sk-estimator {font-family: monospace;background-color: #f0f8ff;border: 1px dotted black;border-radius: 0.25em;box-sizing: border-box;margin-bottom: 0.5em;}#sk-container-id-2 div.sk-estimator:hover {background-color: #d4ebff;}#sk-container-id-2 div.sk-parallel-item::after {content: \"\";width: 100%;border-bottom: 1px solid gray;flex-grow: 1;}#sk-container-id-2 div.sk-label:hover label.sk-toggleable__label {background-color: #d4ebff;}#sk-container-id-2 div.sk-serial::before {content: \"\";position: absolute;border-left: 1px solid gray;box-sizing: border-box;top: 0;bottom: 0;left: 50%;z-index: 0;}#sk-container-id-2 div.sk-serial {display: flex;flex-direction: column;align-items: center;background-color: white;padding-right: 0.2em;padding-left: 0.2em;position: relative;}#sk-container-id-2 div.sk-item {position: relative;z-index: 1;}#sk-container-id-2 div.sk-parallel {display: flex;align-items: stretch;justify-content: center;background-color: white;position: relative;}#sk-container-id-2 div.sk-item::before, #sk-container-id-2 div.sk-parallel-item::before {content: \"\";position: absolute;border-left: 1px solid gray;box-sizing: border-box;top: 0;bottom: 0;left: 50%;z-index: -1;}#sk-container-id-2 div.sk-parallel-item {display: flex;flex-direction: column;z-index: 1;position: relative;background-color: white;}#sk-container-id-2 div.sk-parallel-item:first-child::after {align-self: flex-end;width: 50%;}#sk-container-id-2 div.sk-parallel-item:last-child::after {align-self: flex-start;width: 50%;}#sk-container-id-2 div.sk-parallel-item:only-child::after {width: 0;}#sk-container-id-2 div.sk-dashed-wrapped {border: 1px dashed gray;margin: 0 0.4em 0.5em 0.4em;box-sizing: border-box;padding-bottom: 0.4em;background-color: white;}#sk-container-id-2 div.sk-label label {font-family: monospace;font-weight: bold;display: inline-block;line-height: 1.2em;}#sk-container-id-2 div.sk-label-container {text-align: center;}#sk-container-id-2 div.sk-container {/* jupyter's `normalize.less` sets `[hidden] { display: none; }` but bootstrap.min.css set `[hidden] { display: none !important; }` so we also need the `!important` here to be able to override the default hidden behavior on the sphinx rendered scikit-learn.org. See: https://github.com/scikit-learn/scikit-learn/issues/21755 */display: inline-block !important;position: relative;}#sk-container-id-2 div.sk-text-repr-fallback {display: none;}</style><div id=\"sk-container-id-2\" class=\"sk-top-container\"><div class=\"sk-text-repr-fallback\"><pre>RandomForestClassifier()</pre><b>In a Jupyter environment, please rerun this cell to show the HTML representation or trust the notebook. <br />On GitHub, the HTML representation is unable to render, please try loading this page with nbviewer.org.</b></div><div class=\"sk-container\" hidden><div class=\"sk-item\"><div class=\"sk-estimator sk-toggleable\"><input class=\"sk-toggleable__control sk-hidden--visually\" id=\"sk-estimator-id-2\" type=\"checkbox\" checked><label for=\"sk-estimator-id-2\" class=\"sk-toggleable__label sk-toggleable__label-arrow\">RandomForestClassifier</label><div class=\"sk-toggleable__content\"><pre>RandomForestClassifier()</pre></div></div></div></div></div>"
            ]
          },
          "metadata": {},
          "execution_count": 43
        }
      ]
    },
    {
      "cell_type": "code",
      "source": [
        "preds_rf_train = rf.predict(x_train)\n",
        "preds_rf_test = rf.predict(x_test)"
      ],
      "metadata": {
        "id": "51TZxgsiw3UP"
      },
      "execution_count": 51,
      "outputs": []
    },
    {
      "cell_type": "code",
      "source": [
        "acc_report(y_train,preds_rf_train)"
      ],
      "metadata": {
        "id": "RJWFJC67w9Cs",
        "colab": {
          "base_uri": "https://localhost:8080/"
        },
        "outputId": "2f18bc0b-6ec1-4639-91b3-18157c2acfe0"
      },
      "execution_count": 55,
      "outputs": [
        {
          "output_type": "stream",
          "name": "stdout",
          "text": [
            "The accuracy is  1.0\n",
            "[[203327      0]\n",
            " [     0 280136]]\n",
            "              precision    recall  f1-score   support\n",
            "\n",
            "           0       1.00      1.00      1.00    203327\n",
            "           1       1.00      1.00      1.00    280136\n",
            "\n",
            "    accuracy                           1.00    483463\n",
            "   macro avg       1.00      1.00      1.00    483463\n",
            "weighted avg       1.00      1.00      1.00    483463\n",
            "\n"
          ]
        }
      ]
    },
    {
      "cell_type": "code",
      "source": [
        "acc_report(y_test,preds_rf_test)"
      ],
      "metadata": {
        "id": "ooUuvlHAxE5d",
        "colab": {
          "base_uri": "https://localhost:8080/"
        },
        "outputId": "8f3aa728-9d5a-4399-ec6d-6b031ec19a15"
      },
      "execution_count": 56,
      "outputs": [
        {
          "output_type": "stream",
          "name": "stdout",
          "text": [
            "The accuracy is  0.99\n",
            "[[50664   553]\n",
            " [   85 69564]]\n",
            "              precision    recall  f1-score   support\n",
            "\n",
            "           0       1.00      0.99      0.99     51217\n",
            "           1       0.99      1.00      1.00     69649\n",
            "\n",
            "    accuracy                           0.99    120866\n",
            "   macro avg       1.00      0.99      0.99    120866\n",
            "weighted avg       0.99      0.99      0.99    120866\n",
            "\n"
          ]
        }
      ]
    },
    {
      "cell_type": "markdown",
      "source": [
        "Implementation of Adaboost"
      ],
      "metadata": {
        "id": "eEQ3P7JiWiiw"
      }
    },
    {
      "cell_type": "code",
      "source": [
        "ada = AdaBoostClassifier()\n",
        "ada.fit(x_train, y_train)\n",
        "preds_ada_train = ada.predict(x_train)\n",
        "preds_ada_test = ada.predict(x_test)"
      ],
      "metadata": {
        "id": "U01XOC5WWXgd"
      },
      "execution_count": 33,
      "outputs": []
    },
    {
      "cell_type": "code",
      "source": [
        "def model_eval(actual,predicted):\n",
        "  acc_score = accuracy_score(actual,predicted)\n",
        "  cm_matrix = confusion_matrix(actual,predicted)\n",
        "  class_rep = classification_report(actual, predicted)\n",
        "  print(\"the accuracy is\", round(acc_score,2))\n",
        "  print(cm_matrix)\n",
        "  print(class_rep)"
      ],
      "metadata": {
        "id": "ixkr_qboxKhu"
      },
      "execution_count": 34,
      "outputs": []
    },
    {
      "cell_type": "code",
      "source": [
        "model_eval(y_train, preds_ada_train)"
      ],
      "metadata": {
        "colab": {
          "base_uri": "https://localhost:8080/"
        },
        "id": "a7sSmzEoWtOq",
        "outputId": "8691eb50-484d-4f3b-a24f-a4a642bc7b24"
      },
      "execution_count": 35,
      "outputs": [
        {
          "output_type": "stream",
          "name": "stdout",
          "text": [
            "the accuracy is 0.86\n",
            "[[158261  45066]\n",
            " [ 23870 256266]]\n",
            "              precision    recall  f1-score   support\n",
            "\n",
            "           0       0.87      0.78      0.82    203327\n",
            "           1       0.85      0.91      0.88    280136\n",
            "\n",
            "    accuracy                           0.86    483463\n",
            "   macro avg       0.86      0.85      0.85    483463\n",
            "weighted avg       0.86      0.86      0.86    483463\n",
            "\n"
          ]
        }
      ]
    },
    {
      "cell_type": "code",
      "source": [
        "model_eval(y_test, preds_ada_test)"
      ],
      "metadata": {
        "colab": {
          "base_uri": "https://localhost:8080/"
        },
        "id": "U9MbowBRWy80",
        "outputId": "2c40c5c0-8d88-411c-bc17-a883ab59ea9d"
      },
      "execution_count": 36,
      "outputs": [
        {
          "output_type": "stream",
          "name": "stdout",
          "text": [
            "the accuracy is 0.86\n",
            "[[39912 11305]\n",
            " [ 5864 63785]]\n",
            "              precision    recall  f1-score   support\n",
            "\n",
            "           0       0.87      0.78      0.82     51217\n",
            "           1       0.85      0.92      0.88     69649\n",
            "\n",
            "    accuracy                           0.86    120866\n",
            "   macro avg       0.86      0.85      0.85    120866\n",
            "weighted avg       0.86      0.86      0.86    120866\n",
            "\n"
          ]
        }
      ]
    },
    {
      "cell_type": "markdown",
      "source": [
        "Gradient boosting algorithm"
      ],
      "metadata": {
        "id": "vCy-h_TbW-1d"
      }
    },
    {
      "cell_type": "code",
      "source": [
        "gb = GradientBoostingClassifier()\n",
        "gb.fit(x_train,y_train)\n",
        "preds_gb_train = gb.predict(x_train)\n",
        "preds_gb_test = gb.predict(x_test)"
      ],
      "metadata": {
        "id": "vKv5fbEVXFGS"
      },
      "execution_count": 37,
      "outputs": []
    },
    {
      "cell_type": "code",
      "source": [
        "model_eval(y_train, preds_gb_train)"
      ],
      "metadata": {
        "colab": {
          "base_uri": "https://localhost:8080/"
        },
        "id": "gCBsokkgXkNs",
        "outputId": "e8847774-2621-4663-d09d-d52f9965cc36"
      },
      "execution_count": 40,
      "outputs": [
        {
          "output_type": "stream",
          "name": "stdout",
          "text": [
            "the accuracy is 0.89\n",
            "[[164928  38399]\n",
            " [ 14435 265701]]\n",
            "              precision    recall  f1-score   support\n",
            "\n",
            "           0       0.92      0.81      0.86    203327\n",
            "           1       0.87      0.95      0.91    280136\n",
            "\n",
            "    accuracy                           0.89    483463\n",
            "   macro avg       0.90      0.88      0.89    483463\n",
            "weighted avg       0.89      0.89      0.89    483463\n",
            "\n"
          ]
        }
      ]
    },
    {
      "cell_type": "code",
      "source": [
        "model_eval(y_test, preds_gb_test)"
      ],
      "metadata": {
        "colab": {
          "base_uri": "https://localhost:8080/"
        },
        "id": "byxY4ypeXqjk",
        "outputId": "2caa6627-81ab-4d4a-f324-7ec9e3585435"
      },
      "execution_count": 41,
      "outputs": [
        {
          "output_type": "stream",
          "name": "stdout",
          "text": [
            "the accuracy is 0.89\n",
            "[[41553  9664]\n",
            " [ 3536 66113]]\n",
            "              precision    recall  f1-score   support\n",
            "\n",
            "           0       0.92      0.81      0.86     51217\n",
            "           1       0.87      0.95      0.91     69649\n",
            "\n",
            "    accuracy                           0.89    120866\n",
            "   macro avg       0.90      0.88      0.89    120866\n",
            "weighted avg       0.89      0.89      0.89    120866\n",
            "\n"
          ]
        }
      ]
    },
    {
      "cell_type": "markdown",
      "source": [
        "implementing test dataset into random forest model"
      ],
      "metadata": {
        "id": "teYYHO73ZZCA"
      }
    },
    {
      "cell_type": "code",
      "source": [
        "test.info()"
      ],
      "metadata": {
        "colab": {
          "base_uri": "https://localhost:8080/"
        },
        "id": "nHaqEBmgZf0Z",
        "outputId": "95ab74c4-67cb-4ff5-ec0d-864f75cd7c49"
      },
      "execution_count": 44,
      "outputs": [
        {
          "output_type": "stream",
          "name": "stdout",
          "text": [
            "<class 'pandas.core.frame.DataFrame'>\n",
            "RangeIndex: 120840 entries, 0 to 120839\n",
            "Data columns (total 33 columns):\n",
            " #   Column   Non-Null Count   Dtype  \n",
            "---  ------   --------------   -----  \n",
            " 0   TrialID  120840 non-null  int64  \n",
            " 1   ObsNum   120840 non-null  int64  \n",
            " 2   IsAlert  120840 non-null  object \n",
            " 3   P1       120840 non-null  float64\n",
            " 4   P2       120840 non-null  float64\n",
            " 5   P3       120840 non-null  int64  \n",
            " 6   P4       120840 non-null  float64\n",
            " 7   P5       120840 non-null  float64\n",
            " 8   P6       120840 non-null  int64  \n",
            " 9   P7       120840 non-null  float64\n",
            " 10  P8       120840 non-null  int64  \n",
            " 11  E1       120840 non-null  float64\n",
            " 12  E2       120840 non-null  float64\n",
            " 13  E3       120840 non-null  int64  \n",
            " 14  E4       120840 non-null  int64  \n",
            " 15  E5       120840 non-null  float64\n",
            " 16  E6       120840 non-null  int64  \n",
            " 17  E7       120840 non-null  int64  \n",
            " 18  E8       120840 non-null  int64  \n",
            " 19  E9       120840 non-null  int64  \n",
            " 20  E10      120840 non-null  int64  \n",
            " 21  E11      120840 non-null  float64\n",
            " 22  V1       120840 non-null  float64\n",
            " 23  V2       120840 non-null  float64\n",
            " 24  V3       120840 non-null  int64  \n",
            " 25  V4       120840 non-null  float64\n",
            " 26  V5       120840 non-null  int64  \n",
            " 27  V6       120840 non-null  int64  \n",
            " 28  V7       120840 non-null  int64  \n",
            " 29  V8       120840 non-null  float64\n",
            " 30  V9       120840 non-null  int64  \n",
            " 31  V10      120840 non-null  int64  \n",
            " 32  V11      120840 non-null  float64\n",
            "dtypes: float64(14), int64(18), object(1)\n",
            "memory usage: 30.4+ MB\n"
          ]
        }
      ]
    },
    {
      "cell_type": "code",
      "source": [
        "test_x = test.iloc[:,3:]"
      ],
      "metadata": {
        "id": "_5XCQZDJZi4J"
      },
      "execution_count": 48,
      "outputs": []
    },
    {
      "cell_type": "code",
      "source": [
        "test[\"IsAlert\"] = rf.predict(test_x)"
      ],
      "metadata": {
        "id": "SxCSRSBMZvD6"
      },
      "execution_count": 53,
      "outputs": []
    },
    {
      "cell_type": "code",
      "source": [
        "test['IsAlert'].value_counts()"
      ],
      "metadata": {
        "colab": {
          "base_uri": "https://localhost:8080/"
        },
        "id": "Z_GHoqcZZ8Ou",
        "outputId": "89303f4d-4a42-4296-d6cb-724beb89f0b2"
      },
      "execution_count": 54,
      "outputs": [
        {
          "output_type": "execute_result",
          "data": {
            "text/plain": [
              "1    96641\n",
              "0    24199\n",
              "Name: IsAlert, dtype: int64"
            ]
          },
          "metadata": {},
          "execution_count": 54
        }
      ]
    },
    {
      "cell_type": "code",
      "source": [
        "solution = pd.read_csv('Solution.csv')"
      ],
      "metadata": {
        "id": "qQuaNawfa4jK"
      },
      "execution_count": 58,
      "outputs": []
    },
    {
      "cell_type": "code",
      "source": [
        "model_eval(solution['Prediction'],test['IsAlert'])"
      ],
      "metadata": {
        "colab": {
          "base_uri": "https://localhost:8080/"
        },
        "id": "0_1eC7mtbhS4",
        "outputId": "c6f747a0-4320-442e-a8bc-a9a50ea35156"
      },
      "execution_count": 59,
      "outputs": [
        {
          "output_type": "stream",
          "name": "stdout",
          "text": [
            "the accuracy is 0.83\n",
            "[[16597 13317]\n",
            " [ 7602 83324]]\n",
            "              precision    recall  f1-score   support\n",
            "\n",
            "           0       0.69      0.55      0.61     29914\n",
            "           1       0.86      0.92      0.89     90926\n",
            "\n",
            "    accuracy                           0.83    120840\n",
            "   macro avg       0.77      0.74      0.75    120840\n",
            "weighted avg       0.82      0.83      0.82    120840\n",
            "\n"
          ]
        }
      ]
    },
    {
      "cell_type": "code",
      "source": [],
      "metadata": {
        "id": "kfKy71_-bxY3"
      },
      "execution_count": null,
      "outputs": []
    }
  ]
}